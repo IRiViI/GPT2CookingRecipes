{
 "cells": [
  {
   "cell_type": "markdown",
   "metadata": {},
   "source": [
    "# Fine-tuning GPT-2 on a all recipes dataset in PyTorch\n",
    "\n",
    "\n",
    "\n",
    "#### If you haven't yet, check out the notebook in this [gist](https://gist.github.com/mf1024/430d7fd6ff527350d3e4b5bda0d8614e) where use the same pretrained model to generate text."
   ]
  },
  {
   "cell_type": "code",
   "execution_count": 1,
   "metadata": {
    "scrolled": true
   },
   "outputs": [],
   "source": [
    "import torch\n",
    "from transformers import GPT2Tokenizer, GPT2LMHeadModel\n",
    "import numpy as np\n",
    "from os import listdir\n",
    "from os.path import isfile, join\n",
    "\n",
    "from torch.utils.data import Dataset\n",
    "from torch.utils.data import Dataset, DataLoader\n",
    "import os\n",
    "import json\n",
    "import re\n",
    "\n",
    "import time\n",
    "\n",
    "import logging\n",
    "logging.getLogger().setLevel(logging.CRITICAL)\n",
    "\n",
    "import warnings\n",
    "warnings.filterwarnings('ignore')\n",
    "\n",
    "device = 'cpu'\n",
    "if torch.cuda.is_available():\n",
    "    device = 'cuda'"
   ]
  },
  {
   "cell_type": "code",
   "execution_count": 2,
   "metadata": {},
   "outputs": [],
   "source": [
    "# tokenizer = GPT2Tokenizer.from_pretrained('gpt2-medium')\n",
    "# model = GPT2LMHeadModel.from_pretrained('gpt2-medium')\n",
    "tokenizer = GPT2Tokenizer.from_pretrained('gpt2')\n",
    "model = GPT2LMHeadModel.from_pretrained('gpt2')\n",
    "model = model.to(device)"
   ]
  },
  {
   "cell_type": "code",
   "execution_count": 3,
   "metadata": {},
   "outputs": [],
   "source": [
    "def choose_from_top(probs, n=5):\n",
    "    ind = np.argpartition(probs, -n)[-n:]\n",
    "    top_prob = probs[ind]\n",
    "    top_prob = top_prob / np.sum(top_prob) # Normalize\n",
    "    choice = np.random.choice(n, 1, p = top_prob)\n",
    "    token_id = ind[choice][0]\n",
    "    return int(token_id)"
   ]
  },
  {
   "cell_type": "markdown",
   "metadata": {},
   "source": [
    "### PyTorch Dataset module for Short jokes dataset\n",
    "\n",
    "For fine-tuning the GPT2 model, I will use this [Short Jokes dataset](https://www.kaggle.com/abhinavmoudgil95/short-jokes) published on Kaggle. After each joke, I add \"<|endofext|>\" which is recognized by the GPT2 model as and end of text marker. The marker will allow me to concatenate many jokes in a single input sequence."
   ]
  },
  {
   "cell_type": "code",
   "execution_count": 4,
   "metadata": {},
   "outputs": [],
   "source": [
    "def clean_ingredients(ingredients):\n",
    "    output = []\n",
    "    for ingredient in ingredients:\n",
    "#         values = removeChar(ingredient).split(\" \")\n",
    "#         values = values[1:]\n",
    "#         for volume in [\"\\u2009\"]:\n",
    "#             if volume in values: values.remove(volume)\n",
    "#         ingredient = \" \".join(values)\n",
    "        output.append(ingredient.replace(\"\\u2009\", ' '))\n",
    "    return output\n",
    "\n",
    "class RecipesDataset(Dataset):\n",
    "    def __init__(self, recipes_dataset_path = 'C:/Users/Mech Punk/Documents/crawler/allrecipes'):\n",
    "        super().__init__()\n",
    "\n",
    "        recipefiles = [f for f in listdir(recipes_dataset_path) if isfile(join(recipes_dataset_path, f))]\n",
    "\n",
    "        self.recipe_list = []\n",
    "        self.title_token = \"_tit\" #\"<|title|>\"\n",
    "        self.ingredients_token = \"_ing\" \n",
    "        self.instructions_token = \"_ins\" #\"<|instructions|>\"\n",
    "        self.review_token = \"_rev\" #\"<|review|>\"\n",
    "        self.rating_token = \"_rat\" #\"<|rating|>\"\n",
    "        self.end_of_text_token = \"_end\" #\"<|endoftext|>\"\n",
    "        self.categories_token = \"_cat\" #\"<|endoftext|>\"\n",
    "        \n",
    "        recipe_list = []\n",
    "        for recipefile in recipefiles:\n",
    "            path = os.path.join(recipes_dataset_path, recipefile)\n",
    "            with open(path) as json_file:\n",
    "                json_data = json.load(json_file)\n",
    "                for recipe in json_data:\n",
    "                    if \"Three Cheese Italian Style Chicken Sausage Skillet\" in recipe['title']:\n",
    "                        continue\n",
    "                    # Instructions\n",
    "                    if type(recipe[\"recipeInstructions\"]) != list:\n",
    "                        recipe[\"recipeInstructions\"] = [step[3:] for step in recipe[\"recipeInstructions\"].split(\"Step\")][1:]\n",
    "                    recipeInstructions = \"\"\n",
    "                    for step_index, step in enumerate(recipe[\"recipeInstructions\"]):\n",
    "                        recipeInstructions += f\"Step {step_index+1} \\n \" + step.replace(\"  \",\" \").replace(\"  \",\" \").replace(\"  \",\" \").replace(\"  \",\" \").replace(\"  \",\" \").replace(\"  \",\" \")\n",
    "                    recipeInstructions = recipeInstructions.replace(\"\\n\", \" \\n \").replace(\"  \",\" \")\n",
    "                    # Ingredients\n",
    "                    ingredients = \"\"\n",
    "                    for ingredient in clean_ingredients(recipe[\"recipeIngredients\"]):\n",
    "                        ingredients += f\" \\n {ingredient}\"\n",
    "                    # Categories\n",
    "                    categories = \"\"\n",
    "                    for category in recipe[\"recipeCategory\"]:\n",
    "                        categories += f\" \\n {category}\"\n",
    "                    # Reviews\n",
    "                    for review in recipe[\"ratings\"]:\n",
    "                        text = review[\"text\"]\n",
    "                        value = review[\"value\"]\n",
    "                        recipe_str = f\"{self.title_token} {recipe['title']} {self.categories_token} {categories} {self.ingredients_token} {ingredients} {self.instructions_token} {recipeInstructions} {self.review_token} {text} {self.rating_token} {value} {self.end_of_text_token}\"\n",
    "                        self.recipe_list.append(recipe_str.replace(\"  \",\" \"))\n",
    "        \n",
    "    def __len__(self):\n",
    "        return len(self.recipe_list)\n",
    "\n",
    "    def __getitem__(self, item):\n",
    "        return self.recipe_list[item]\n"
   ]
  },
  {
   "cell_type": "code",
   "execution_count": null,
   "metadata": {},
   "outputs": [],
   "source": []
  },
  {
   "cell_type": "code",
   "execution_count": 5,
   "metadata": {},
   "outputs": [],
   "source": [
    "dataset = RecipesDataset()\n",
    "recipe_loader = DataLoader(dataset, batch_size=1, shuffle=True)\n",
    "\n",
    "# tokenizer.add_special_tokens({'end_token': dataset.end_of_text_token})\n",
    "# tokenizer.add_special_tokens({'title_token': dataset.title_token})\n",
    "# tokenizer.add_special_tokens({'review_token': dataset.review_token})\n",
    "# tokenizer.add_special_tokens({'instructions_token': dataset.instructions_token})\n",
    "# tokenizer.add_special_tokens({'rating_token': dataset.rating_token})\n"
   ]
  },
  {
   "cell_type": "code",
   "execution_count": 20,
   "metadata": {},
   "outputs": [
    {
     "data": {
      "text/plain": [
       "\"_tit Dawn's Sugar Cookies _cat \\n Desserts \\n Cookies \\n Sugar Cookies _ing \\n 1 cup shortening \\n 2 cups white sugar \\n 4 eggs \\n 1 teaspoon vanilla extract \\n 4 cups all-purpose flour \\n 2 teaspoons baking powder \\n 1 teaspoon baking soda \\n 1 cup buttermilk \\n ½ cup butter, melted \\n 2 cups confectioners' sugar \\n 2 tablespoons milk \\n 3 drops red food coloring _ins Step 1 \\n Preheat oven to 350 degrees F (175 degrees C). Line cookie sheets with parchment paper. \\n Step 2 \\n In a large bowl, cream together the shortening and white sugar until smooth. Beat in eggs one at a time, and stir in vanilla. Combine the flour, baking powder, and baking soda; stir into the creamed mixture alternately with the buttermilk until a soft dough forms. Drop by teaspoonfuls onto prepared cookie sheets. \\n Step 3 \\n Bake for 10 minutes in preheated oven, or until light brown. Cool on wire racks. \\n Step 4 \\n In a medium bowl, blend together melted butter and confectioners' sugar until smooth. Gradually stir in milk until frosting reaches the desired consistency. Mix in food coloring, if desired. Spread onto cooled cookies, and place frosted cookies on waxed paper or cooling racks until frosting is set. \\n _rev This sugar cookie recipe was very good. I used one cup of butter instead of the shortening and I didn't have any buttermilk so I used 3 tablespoons lemon juice and put it in a one cup measuring cup and then filled the rest of the measuring cup up with milk (a buttermilk subsitute) and the cookies turned out great. The only thing that surprised me was that the recipe stated that it makes 2 dozen I ended up with over 40 cookies and had to triple the frosting (and the cookies I made were very large). That's okay because I had plenty to give away to family. Overall it's a very yummy and soft cookie that I will make again. _rat 4 _end\""
      ]
     },
     "execution_count": 20,
     "metadata": {},
     "output_type": "execute_result"
    }
   ],
   "source": [
    "dataset.recipe_list[10]"
   ]
  },
  {
   "cell_type": "code",
   "execution_count": 16,
   "metadata": {},
   "outputs": [],
   "source": []
  },
  {
   "cell_type": "code",
   "execution_count": 17,
   "metadata": {},
   "outputs": [
    {
     "name": "stdout",
     "output_type": "stream",
     "text": [
      "['Desserts', 'Cookies', 'Peanut Butter Cookies']\n",
      "['Desserts', 'Cookies', 'Refrigerator Cookies']\n",
      "['Side Dish', 'Sauces and Condiments', 'Sauces', 'Pasta Sauces', 'Meat Sauce']\n",
      "['Soups, Stews and Chili', 'Soup', 'Vegetable Soup']\n",
      "['Main Dishes', 'Burgers', 'Veggie']\n",
      "['Main Dishes', 'Seafood Main Dishes', 'Crab']\n",
      "['Salad', 'Curry Salad']\n",
      "['Side Dish']\n",
      "['Meat and Poultry', 'Chicken', 'Fried Chicken']\n",
      "['Meat and Poultry', 'Beef', 'Steaks', 'Rib-Eye Steak']\n",
      "['World Cuisine', 'Latin American', 'Mexican']\n",
      "['Soups, Stews and Chili', 'Soup', 'Vegetable Soup']\n",
      "['Desserts', 'Fruit Desserts', 'Apple Desserts']\n",
      "['Bread', 'Yeast Bread']\n",
      "['World Cuisine', 'European', 'Italian']\n",
      "['Side Dish', 'Potato Side Dishes', 'Roasted Potatoes']\n",
      "[]\n",
      "[]\n",
      "[]\n",
      "[]\n",
      "[]\n",
      "[]\n",
      "['World Cuisine', 'European', 'Eastern European', 'Czech']\n",
      "[]\n",
      "[]\n",
      "[]\n",
      "['Meat and Poultry', 'Pork', 'Pork Ribs', 'Baby Back Ribs']\n",
      "[]\n",
      "[]\n",
      "[]\n",
      "[]\n",
      "[]\n",
      "[]\n",
      "[]\n",
      "[]\n",
      "[]\n",
      "[]\n",
      "[]\n",
      "[]\n",
      "[]\n",
      "[]\n",
      "[]\n",
      "['Desserts', 'Fruit Desserts', 'Strawberry Desserts']\n",
      "['World Cuisine', 'European', 'French']\n"
     ]
    }
   ],
   "source": [
    "recipes_dataset_path = 'C:/Users/Mech Punk/Documents/crawler/allrecipes'\n",
    "recipefiles = [f for f in listdir(recipes_dataset_path) if isfile(join(recipes_dataset_path, f))]\n",
    "recipe_list = []\n",
    "for recipefile in recipefiles:\n",
    "    path = os.path.join(recipes_dataset_path, recipefile)\n",
    "#     print(path)\n",
    "    with open(path) as json_file:\n",
    "        json_data = json.load(json_file)\n",
    "        for recipe in json_data:\n",
    "            print(recipe[\"recipeCategory\"])\n",
    "            break\n",
    "#             if type(recipe[\"recipeInstructions\"]) == list:\n",
    "#                 recipeInstructions = \"\"\n",
    "#                 for step_index, step in enumerate(recipe[\"recipeInstructions\"]):\n",
    "#                     recipeInstructions += f\"Step {step_index}\\n \" + step.replace(\"  \",\" \").replace(\"  \",\" \").replace(\"  \",\" \").replace(\"  \",\" \").replace(\"  \",\" \").replace(\"  \",\" \")\n",
    "#             else:\n",
    "#                 recipeInstructions = (recipe[\"recipeInstructions\"]\n",
    "#             recipe_str = f\"Title {recipe[\"title\"]: {recipeInstructions}}{self.end_of_text_token}\"\n",
    "#             self.recipe_list.append(recipe_str)\n",
    "#             self.recipe_list.append(recipe_str)\n",
    "#             print(len(recipe[\"recipeInstructions\"]))\n",
    "#             print(type(recipe[\"recipeInstructions\"]))\n",
    "#             if type(recipe[\"recipeInstructions\"]) == list and len(recipe[\"recipeInstructions\"]) > 1:\n",
    "#                 break\n",
    "#     if type(recipe[\"recipeInstructions\"]) == list and len(recipe[\"recipeInstructions\"]) > 1:\n",
    "#         break\n",
    "#     break"
   ]
  },
  {
   "cell_type": "code",
   "execution_count": 10,
   "metadata": {
    "scrolled": true
   },
   "outputs": [
    {
     "data": {
      "text/plain": [
       "'For easy cutting line the pan with wax paper or foil. Leave about 1 inch over hang on the ends. Place ingredients inside allow to set as directed. Remove from pan by edges of foil/paper and use a pizza cutter to cut into nice smooth squares. We use this method with all desserts/bars that need to be cut!'"
      ]
     },
     "execution_count": 10,
     "metadata": {},
     "output_type": "execute_result"
    }
   ],
   "source": []
  },
  {
   "cell_type": "code",
   "execution_count": 12,
   "metadata": {},
   "outputs": [
    {
     "data": {
      "text/plain": [
       "5"
      ]
     },
     "execution_count": 12,
     "metadata": {},
     "output_type": "execute_result"
    }
   ],
   "source": []
  },
  {
   "cell_type": "code",
   "execution_count": 61,
   "metadata": {},
   "outputs": [
    {
     "data": {
      "text/plain": [
       "531"
      ]
     },
     "execution_count": 61,
     "metadata": {},
     "output_type": "execute_result"
    }
   ],
   "source": []
  },
  {
   "cell_type": "code",
   "execution_count": 47,
   "metadata": {},
   "outputs": [],
   "source": [
    "# recipe[\"recipeInstructions\"]"
   ]
  },
  {
   "cell_type": "code",
   "execution_count": 48,
   "metadata": {},
   "outputs": [],
   "source": [
    "# recipes_dataset_path = 'C:/Users/Mech Punk/Documents/crawler/allrecipes'\n",
    "# recipefiles = [f for f in listdir(recipes_dataset_path) if isfile(join(recipes_dataset_path, f))]"
   ]
  },
  {
   "cell_type": "code",
   "execution_count": 42,
   "metadata": {},
   "outputs": [],
   "source": []
  },
  {
   "cell_type": "code",
   "execution_count": 43,
   "metadata": {},
   "outputs": [
    {
     "data": {
      "text/plain": [
       "'Step 0\\n Preheat the oven to 375 degrees F (190 degrees C). Grease a 12 cup muffin tin, or line with paper muffin liners.\\n Step 1\\n In a large bowl, stir together the flour, sugar substitute, baking powder, baking soda, and cinnamon. In a separate bowl, mix together the egg whites, mashed banana and applesauce. Add the wet ingredients to the dry, and mix until just blended. Fill prepared muffin cups 3/4 full.\\n Step 2\\n Bake for 15 to 18 minutes in the preheated oven, or until the top springs back when lightly touched. Allow muffins to cool in the pan over a wire rack for a little while before tapping them out of the pan.\\n '"
      ]
     },
     "execution_count": 43,
     "metadata": {},
     "output_type": "execute_result"
    }
   ],
   "source": [
    "recipeInstructions"
   ]
  },
  {
   "cell_type": "code",
   "execution_count": 13,
   "metadata": {},
   "outputs": [],
   "source": [
    "dataset = RecipesDataset()\n",
    "recipe_loader = DataLoader(dataset, batch_size=1, shuffle=True)"
   ]
  },
  {
   "cell_type": "code",
   "execution_count": 14,
   "metadata": {},
   "outputs": [
    {
     "data": {
      "text/plain": [
       "20996"
      ]
     },
     "execution_count": 14,
     "metadata": {},
     "output_type": "execute_result"
    }
   ],
   "source": [
    "len(dataset)"
   ]
  },
  {
   "cell_type": "code",
   "execution_count": 77,
   "metadata": {},
   "outputs": [
    {
     "data": {
      "text/plain": [
       "10809"
      ]
     },
     "execution_count": 77,
     "metadata": {},
     "output_type": "execute_result"
    }
   ],
   "source": [
    "np.sum([\"Three Cheese Italian Style Chicken Sausage Skillet\" in recipe for recipe in dataset.recipe_list])"
   ]
  },
  {
   "cell_type": "code",
   "execution_count": 12,
   "metadata": {},
   "outputs": [
    {
     "data": {
      "text/plain": [
       "\"_tit Chocolate Peanut Butter Bars II _cat \\n Desserts \\n Cookies \\n Peanut Butter Cookies _ing \\n ½ cup butter \\n ½ cup packed brown sugar \\n 1 teaspoon vanilla extract \\n 2 cups peanut butter \\n 2 ½ cups confectioners' sugar \\n 2 cups semisweet chocolate chips _ins Step 1 \\n Melt butter or margarine over low heat. Add sugars, peanut butter and vanilla. Mix well. \\n Step 2 \\n Press into a 9 x 13 inch pan. \\n Step 3 \\n Melt chocolate chips and spread over the top. Cool. \\n _rev For easy cutting line the pan with wax paper or foil. Leave about 1 inch over hang on the ends. Place ingredients inside allow to set as directed. Remove from pan by edges of foil/paper and use a pizza cutter to cut into nice smooth squares. We use this method with all desserts/bars that need to be cut! _rat 5 _end\""
      ]
     },
     "execution_count": 12,
     "metadata": {},
     "output_type": "execute_result"
    }
   ],
   "source": [
    "dataset.recipe_list[1]"
   ]
  },
  {
   "cell_type": "code",
   "execution_count": 66,
   "metadata": {},
   "outputs": [
    {
     "data": {
      "text/plain": [
       "30630"
      ]
     },
     "execution_count": 66,
     "metadata": {},
     "output_type": "execute_result"
    }
   ],
   "source": [
    "len(dataset.recipe_list)"
   ]
  },
  {
   "cell_type": "markdown",
   "metadata": {},
   "source": [
    "### Hyperparameters\n",
    "\n",
    "I tested many(more than 5) hyperparameter sets till I found one that works the best. I mostly tuned ***BATCH_SIZE*** (in this case, it's the number of forward-backward passes between each optimization step), ***EOPOCHS***, and ***LEARNING_RATE***.\n",
    "\n",
    "For a parameter value starting point for fine-tuning, I inspired from [this](https://github.com/huggingface/transformers/blob/master/examples/run_squad.py) and [this](https://github.com/huggingface/transformers/blob/master/examples/run_glue.py) huggingface fine-tuning code."
   ]
  },
  {
   "cell_type": "code",
   "execution_count": 5,
   "metadata": {},
   "outputs": [],
   "source": [
    "BATCH_SIZE = 16\n",
    "EPOCHS = 5\n",
    "LEARNING_RATE = 3e-5\n",
    "WARMUP_STEPS = 5000\n",
    "MAX_SEQ_LEN = 800 #400\n",
    "from transformers import AdamW\n",
    "from transformers import get_linear_schedule_with_warmup as WarmupLinearSchedule\n",
    "\n",
    "\n",
    "device = 'cpu'\n",
    "if torch.cuda.is_available():\n",
    "    device = 'cuda'"
   ]
  },
  {
   "cell_type": "code",
   "execution_count": 6,
   "metadata": {},
   "outputs": [
    {
     "data": {
      "text/plain": [
       "True"
      ]
     },
     "execution_count": 6,
     "metadata": {},
     "output_type": "execute_result"
    }
   ],
   "source": [
    "torch.cuda.is_available()"
   ]
  },
  {
   "cell_type": "code",
   "execution_count": 7,
   "metadata": {},
   "outputs": [
    {
     "data": {
      "text/plain": [
       "0"
      ]
     },
     "execution_count": 7,
     "metadata": {},
     "output_type": "execute_result"
    }
   ],
   "source": [
    "torch.cuda.current_device()"
   ]
  },
  {
   "cell_type": "code",
   "execution_count": null,
   "metadata": {},
   "outputs": [],
   "source": []
  },
  {
   "cell_type": "markdown",
   "metadata": {},
   "source": [
    "### Model training\n",
    "\n",
    "I will train the model and save the model weights after each epoch and then I will try to generate recipes with each version of the weight to see which performs the best."
   ]
  },
  {
   "cell_type": "code",
   "execution_count": null,
   "metadata": {},
   "outputs": [],
   "source": []
  },
  {
   "cell_type": "code",
   "execution_count": 9,
   "metadata": {},
   "outputs": [
    {
     "name": "stdout",
     "output_type": "stream",
     "text": [
      "EPOCH 0 started==============================\n",
      "sum loss 5173.7412109375\n",
      "sum loss 4664.78955078125\n",
      "sum loss 4324.77978515625\n",
      "sum loss 4054.224365234375\n",
      "sum loss 3865.771728515625\n",
      "sum loss 3678.900146484375\n",
      "sum loss 3572.981689453125\n",
      "sum loss 3498.683837890625\n",
      "sum loss 3432.91357421875\n",
      "sum loss 3374.886962890625\n",
      "sum loss 3346.14404296875\n",
      "sum loss 3312.210693359375\n",
      "sum loss 3269.261962890625\n",
      "sum loss 3238.20068359375\n",
      "sum loss 3215.717529296875\n",
      "sum loss 3182.832763671875\n",
      "sum loss 3161.5302734375\n",
      "sum loss 3118.53369140625\n",
      "sum loss 3119.603271484375\n",
      "sum loss 3092.09326171875\n",
      "sum loss 3060.978271484375\n",
      "sum loss 3059.291748046875\n",
      "sum loss 3043.237060546875\n",
      "sum loss 3027.92236328125\n",
      "sum loss 2990.117431640625\n",
      "sum loss 2970.294189453125\n",
      "sum loss 2946.73388671875\n",
      "sum loss 2961.415771484375\n",
      "sum loss 2923.640625\n",
      "sum loss 2934.487548828125\n",
      "sum loss 2920.230712890625\n",
      "sum loss 2897.19287109375\n",
      "sum loss 2862.266357421875\n",
      "sum loss 2872.746337890625\n",
      "sum loss 2856.159912109375\n",
      "sum loss 2846.729736328125\n",
      "sum loss 2855.694091796875\n",
      "sum loss 2811.890869140625\n",
      "sum loss 2805.960205078125\n",
      "sum loss 2784.599365234375\n",
      "sum loss 2792.43115234375\n",
      "sum loss 2797.43994140625\n",
      "sum loss 2754.81787109375\n",
      "sum loss 2764.037353515625\n",
      "sum loss 2765.973876953125\n",
      "sum loss 2747.989990234375\n",
      "sum loss 2715.24365234375\n",
      "sum loss 2735.927734375\n",
      "sum loss 2727.13232421875\n",
      "sum loss 2706.62841796875\n",
      "sum loss 2707.71435546875\n",
      "sum loss 2709.22998046875\n",
      "sum loss 2699.98388671875\n",
      "EPOCH 1 started==============================\n",
      "sum loss 2694.49853515625\n",
      "sum loss 2723.00048828125\n",
      "sum loss 2702.79833984375\n",
      "sum loss 2692.51513671875\n",
      "sum loss 2694.56591796875\n",
      "sum loss 2667.839111328125\n",
      "sum loss 2682.189697265625\n",
      "sum loss 2693.3076171875\n",
      "sum loss 2686.09814453125\n",
      "sum loss 2681.884033203125\n",
      "sum loss 2692.178955078125\n",
      "sum loss 2687.966552734375\n",
      "sum loss 2683.031005859375\n",
      "sum loss 2696.443115234375\n",
      "sum loss 2717.70458984375\n",
      "sum loss 2685.25927734375\n",
      "sum loss 2680.622314453125\n",
      "sum loss 2685.47802734375\n",
      "sum loss 2701.442626953125\n",
      "sum loss 2676.365478515625\n",
      "sum loss 2712.987060546875\n",
      "sum loss 2709.641357421875\n",
      "sum loss 2695.60400390625\n",
      "sum loss 2711.34619140625\n",
      "sum loss 2720.81884765625\n",
      "sum loss 2704.32666015625\n",
      "sum loss 2695.60791015625\n",
      "sum loss 2682.760986328125\n",
      "sum loss 2681.584716796875\n",
      "sum loss 2698.6162109375\n",
      "sum loss 2697.182861328125\n",
      "sum loss 2693.092041015625\n",
      "sum loss 2688.390380859375\n",
      "sum loss 2687.9091796875\n",
      "sum loss 2706.3671875\n",
      "sum loss 2711.78173828125\n",
      "sum loss 2691.59033203125\n",
      "sum loss 2683.126708984375\n",
      "sum loss 2699.776611328125\n",
      "sum loss 2693.022705078125\n",
      "sum loss 2715.097412109375\n",
      "sum loss 2682.301513671875\n",
      "sum loss 2687.86376953125\n",
      "sum loss 2671.20751953125\n",
      "sum loss 2700.266357421875\n",
      "sum loss 2682.31298828125\n",
      "sum loss 2681.17724609375\n",
      "sum loss 2675.982421875\n",
      "sum loss 2680.307861328125\n",
      "sum loss 2706.27197265625\n",
      "sum loss 2697.590576171875\n",
      "sum loss 2688.837890625\n",
      "sum loss 2694.482421875\n",
      "sum loss 2686.423828125\n",
      "EPOCH 2 started==============================\n",
      "sum loss 2687.491455078125\n",
      "sum loss 2677.979248046875\n",
      "sum loss 2687.6923828125\n",
      "sum loss 2689.27001953125\n",
      "sum loss 2693.147216796875\n",
      "sum loss 2676.01611328125\n",
      "sum loss 2700.361083984375\n",
      "sum loss 2692.814208984375\n",
      "sum loss 2715.103271484375\n",
      "sum loss 2670.5322265625\n",
      "sum loss 2709.812744140625\n",
      "sum loss 2685.82080078125\n",
      "sum loss 2697.356689453125\n",
      "sum loss 2687.9248046875\n",
      "sum loss 2700.937744140625\n",
      "sum loss 2707.6171875\n",
      "sum loss 2697.422119140625\n",
      "sum loss 2673.680908203125\n",
      "sum loss 2698.958251953125\n",
      "sum loss 2703.205078125\n",
      "sum loss 2702.98583984375\n",
      "sum loss 2705.530029296875\n",
      "sum loss 2685.127197265625\n",
      "sum loss 2690.643798828125\n",
      "sum loss 2693.709716796875\n",
      "sum loss 2701.079833984375\n",
      "sum loss 2681.299072265625\n",
      "sum loss 2700.18310546875\n",
      "sum loss 2714.575439453125\n",
      "sum loss 2705.884765625\n",
      "sum loss 2697.3740234375\n",
      "sum loss 2692.870361328125\n",
      "sum loss 2696.605712890625\n",
      "sum loss 2704.33837890625\n",
      "sum loss 2696.1357421875\n",
      "sum loss 2682.304931640625\n",
      "sum loss 2699.2119140625\n",
      "sum loss 2673.18212890625\n",
      "sum loss 2689.6025390625\n",
      "sum loss 2691.3447265625\n",
      "sum loss 2704.592041015625\n",
      "sum loss 2676.716552734375\n",
      "sum loss 2705.134765625\n",
      "sum loss 2686.324951171875\n",
      "sum loss 2688.180419921875\n",
      "sum loss 2697.96630859375\n",
      "sum loss 2713.021240234375\n",
      "sum loss 2678.87060546875\n",
      "sum loss 2695.000244140625\n",
      "sum loss 2692.9267578125\n",
      "sum loss 2680.6962890625\n",
      "sum loss 2689.039306640625\n",
      "sum loss 2681.321044921875\n",
      "EPOCH 3 started==============================\n",
      "sum loss 2689.791259765625\n",
      "sum loss 2701.496337890625\n",
      "sum loss 2694.625732421875\n",
      "sum loss 2694.404541015625\n",
      "sum loss 2692.636962890625\n",
      "sum loss 2685.73486328125\n",
      "sum loss 2689.919189453125\n",
      "sum loss 2678.60791015625\n",
      "sum loss 2681.852783203125\n",
      "sum loss 2704.356201171875\n",
      "sum loss 2686.85693359375\n",
      "sum loss 2691.009765625\n",
      "sum loss 2702.018310546875\n",
      "sum loss 2677.35546875\n",
      "sum loss 2694.2744140625\n",
      "sum loss 2701.845703125\n",
      "sum loss 2705.697021484375\n",
      "sum loss 2696.686279296875\n",
      "sum loss 2683.14453125\n",
      "sum loss 2677.247314453125\n",
      "sum loss 2677.90380859375\n",
      "sum loss 2693.123291015625\n",
      "sum loss 2702.9384765625\n",
      "sum loss 2722.623779296875\n",
      "sum loss 2693.589111328125\n",
      "sum loss 2691.274658203125\n",
      "sum loss 2703.35693359375\n",
      "sum loss 2686.354736328125\n",
      "sum loss 2692.934814453125\n",
      "sum loss 2699.64501953125\n",
      "sum loss 2689.78662109375\n",
      "sum loss 2701.464599609375\n",
      "sum loss 2698.5595703125\n",
      "sum loss 2695.821533203125\n",
      "sum loss 2707.28857421875\n",
      "sum loss 2691.617431640625\n",
      "sum loss 2692.296875\n",
      "sum loss 2681.947021484375\n",
      "sum loss 2680.20703125\n",
      "sum loss 2686.678466796875\n",
      "sum loss 2705.121826171875\n",
      "sum loss 2679.771240234375\n",
      "sum loss 2693.77197265625\n",
      "sum loss 2683.271728515625\n",
      "sum loss 2692.367431640625\n",
      "sum loss 2686.116455078125\n",
      "sum loss 2691.22216796875\n",
      "sum loss 2678.919189453125\n",
      "sum loss 2688.7861328125\n",
      "sum loss 2708.205078125\n",
      "sum loss 2699.8408203125\n",
      "sum loss 2678.6708984375\n",
      "sum loss 2697.99169921875\n",
      "sum loss 2693.109130859375\n",
      "EPOCH 4 started==============================\n",
      "sum loss 2706.668701171875\n",
      "sum loss 2684.07373046875\n",
      "sum loss 2691.785400390625\n",
      "sum loss 2709.315185546875\n",
      "sum loss 2701.8720703125\n",
      "sum loss 2698.309814453125\n",
      "sum loss 2699.843017578125\n",
      "sum loss 2678.315673828125\n",
      "sum loss 2696.215087890625\n",
      "sum loss 2694.1025390625\n",
      "sum loss 2702.462158203125\n",
      "sum loss 2687.287841796875\n",
      "sum loss 2700.856689453125\n",
      "sum loss 2691.513427734375\n",
      "sum loss 2694.720947265625\n",
      "sum loss 2713.46826171875\n",
      "sum loss 2690.1435546875\n",
      "sum loss 2670.475341796875\n",
      "sum loss 2704.40869140625\n",
      "sum loss 2689.413330078125\n",
      "sum loss 2718.420166015625\n",
      "sum loss 2701.950439453125\n",
      "sum loss 2712.748779296875\n",
      "sum loss 2703.726318359375\n",
      "sum loss 2694.73291015625\n",
      "sum loss 2712.974609375\n",
      "sum loss 2695.051513671875\n",
      "sum loss 2694.42333984375\n",
      "sum loss 2695.354248046875\n",
      "sum loss 2680.3515625\n",
      "sum loss 2676.36572265625\n",
      "sum loss 2690.737548828125\n",
      "sum loss 2668.751708984375\n",
      "sum loss 2677.670166015625\n",
      "sum loss 2703.5126953125\n",
      "sum loss 2682.433349609375\n",
      "sum loss 2693.35107421875\n",
      "sum loss 2707.45166015625\n",
      "sum loss 2694.8759765625\n",
      "sum loss 2671.74560546875\n",
      "sum loss 2676.525146484375\n",
      "sum loss 2669.295654296875\n",
      "sum loss 2664.7958984375\n",
      "sum loss 2695.5419921875\n",
      "sum loss 2683.9345703125\n",
      "sum loss 2706.71923828125\n",
      "sum loss 2710.67041015625\n",
      "sum loss 2692.942138671875\n",
      "sum loss 2705.845458984375\n",
      "sum loss 2692.6904296875\n",
      "sum loss 2700.437255859375\n",
      "sum loss 2693.184814453125\n",
      "sum loss 2700.1376953125\n",
      "sum loss 2708.092041015625\n"
     ]
    }
   ],
   "source": [
    "model = model.to(device)\n",
    "model.train()\n",
    "optimizer = AdamW(model.parameters(), lr=LEARNING_RATE)\n",
    "scheduler = WarmupLinearSchedule(optimizer, num_warmup_steps=WARMUP_STEPS, num_training_steps = -1)\n",
    "proc_seq_count = 0\n",
    "sum_loss = 0.0\n",
    "batch_count = 0\n",
    "\n",
    "tmp_recipes_tens = None\n",
    "models_folder = \"trained_models\"\n",
    "if not os.path.exists(models_folder):\n",
    "    os.mkdir(models_folder)\n",
    "\n",
    "    \n",
    "for epoch in range(EPOCHS):\n",
    "    \n",
    "    print(f\"EPOCH {epoch} started\" + '=' * 30)\n",
    "    counter=0\n",
    "    for idx,recipe in enumerate(recipe_loader):\n",
    "#         print(counter)\n",
    "        counter+=1\n",
    "        \n",
    "#         print('a')\n",
    "        \n",
    "        #################### \"Fit as many recipe sequences into MAX_SEQ_LEN sequence as possible\" logic start ####\n",
    "        recipe_tens = torch.tensor(tokenizer.encode(recipe[0])).unsqueeze(0).to(device)\n",
    "        #Skip sample from dataset if it is longer than MAX_SEQ_LEN\n",
    "        if recipe_tens.size()[1] > MAX_SEQ_LEN:\n",
    "            continue\n",
    "            \n",
    "#         print('b')\n",
    "        \n",
    "        #The first recipe sequence in the sequence\n",
    "        if not torch.is_tensor(tmp_recipes_tens):\n",
    "            tmp_recipes_tens = recipe_tens\n",
    "            continue\n",
    "        else:\n",
    "            #The next recipe does not fit in so we process the sequence and leave the last recipe \n",
    "            #as the start for next sequence \n",
    "            if tmp_recipes_tens.size()[1] + recipe_tens.size()[1] > MAX_SEQ_LEN:\n",
    "                work_recipes_tens = tmp_recipes_tens\n",
    "                tmp_recipes_tens = recipe_tens\n",
    "            else:\n",
    "                #Add the recipe to sequence, continue and try to add more\n",
    "                tmp_recipes_tens = torch.cat([tmp_recipes_tens, recipe_tens[:,1:]], dim=1)\n",
    "                continue\n",
    "        ################## Sequence ready, process it trough the model ##################\n",
    "            \n",
    "            \n",
    "#         print('c')\n",
    "        \n",
    "        outputs = model(work_recipes_tens, labels=work_recipes_tens)\n",
    "        loss, logits = outputs[:2]                        \n",
    "        loss.backward()\n",
    "        sum_loss = sum_loss + loss.detach().data\n",
    "                       \n",
    "        proc_seq_count = proc_seq_count + 1\n",
    "        if proc_seq_count == BATCH_SIZE:\n",
    "            proc_seq_count = 0    \n",
    "            batch_count += 1\n",
    "            optimizer.step()\n",
    "            scheduler.step() \n",
    "            optimizer.zero_grad()\n",
    "            model.zero_grad()\n",
    "\n",
    "        if batch_count == 100:\n",
    "            print(f\"sum loss {sum_loss}\")\n",
    "            batch_count = 0\n",
    "            sum_loss = 0.0\n",
    "    \n",
    "    # Store the model after each epoch to compare the performance of them\n",
    "#     torch.save(model.state_dict(), os.path.join(models_folder, f\"gpt2_medium_reciper_{epoch}.pt\"))\n",
    "    torch.save(model.state_dict(), os.path.join(models_folder, f\"gpt2_recipe_reviews_ingredients_categories_2_{epoch}.pt\"))\n",
    "            "
   ]
  },
  {
   "cell_type": "code",
   "execution_count": 12,
   "metadata": {},
   "outputs": [],
   "source": [
    "# torch.save(model.state_dict(), os.path.join(models_folder, f\"gpt2_joker_{epoch}.pt\"))"
   ]
  },
  {
   "cell_type": "code",
   "execution_count": 26,
   "metadata": {},
   "outputs": [
    {
     "data": {
      "text/plain": [
       "0"
      ]
     },
     "execution_count": 26,
     "metadata": {},
     "output_type": "execute_result"
    }
   ],
   "source": [
    "proc_seq_count"
   ]
  },
  {
   "cell_type": "markdown",
   "metadata": {},
   "source": [
    "### Generating the jokes"
   ]
  },
  {
   "cell_type": "code",
   "execution_count": 8,
   "metadata": {},
   "outputs": [],
   "source": [
    "def recipe_to_dict(recipe_text):\n",
    "    current = recipe_text.split(\"_tit\")[1]\n",
    "#     print(current)\n",
    "    splitted = current.split(\"_cat \")\n",
    "    (title, current) = splitted[0], splitted[1]\n",
    "#     print(\"title\", title)\n",
    "    splitted = current.split(\"_ing\")\n",
    "    (categories, current) = splitted[0], splitted[1]\n",
    "#     print(\"\\n categories\", ingredients)\n",
    "    splitted = current.split(\"_ins\")\n",
    "    (ingredients, current) = splitted[0], splitted[1]\n",
    "#     print(\"\\n ingredients\", ingredients)\n",
    "    splitted = current.split(\"_rev\")\n",
    "    (instructions, current) = splitted[0], splitted[1]\n",
    "#     print(\"\\n instructions\", instructions)\n",
    "    splitted = current.split(\"_rat\")\n",
    "    (review, current) = splitted[0], splitted[1]\n",
    "#     print(\"\\n review\", review)\n",
    "    splitted = current.split(\"_end\")\n",
    "    (rating, _) = splitted[0], splitted[1]\n",
    "#     print(\"\\n rating\", rating)\n",
    "\n",
    "    categories = [category.strip() for category in categories.strip().split(\"\\n\")]\n",
    "    ingredients = ingredients.strip().replace(\"  \", \" \").split(\"\\n\")\n",
    "    ingredients = [ingredient.strip() for ingredient in ingredients]\n",
    "    instructions = [instruction[2:] for instruction in instructions.strip().replace(\"\\n\",\"\").replace(\"  \", \" \").split(\"Step \")[1:]]\n",
    "    recipe = {\n",
    "        \"title\": title,\n",
    "        \"categories\": categories,\n",
    "        \"ingredients\": ingredients,\n",
    "        \"instructions\": instructions,\n",
    "        \"reviews\": [review],\n",
    "        \"ratings\": [int(rating)],\n",
    "        \n",
    "    }\n",
    "    return recipe\n",
    "# recipe_to_dict(output_text)"
   ]
  },
  {
   "cell_type": "code",
   "execution_count": 42,
   "metadata": {},
   "outputs": [],
   "source": [
    "def complete_recipe_generator(title=\"\", categories=[], ingredients=[], instructions=[], \n",
    "                              number_of_reviews=[5, 10], max_length=1000,\n",
    "                             title_tag=\"_tit\", categories_tag=\"_cat\", ingredients_tag=\"_ing\", instructions_tag=\"_ins\"):\n",
    "    primer = f\"{title_tag} \"+ title\n",
    "    if len(categories) > 0:\n",
    "        primer += f\" {categories_tag} \"\n",
    "        for category in categories:\n",
    "            primer += f\"{category} \\n \"\n",
    "            \n",
    "    if len(ingredients) > 0:\n",
    "        assert len(categories) > 0; \"You need to add categories before ingredients\"\n",
    "        primer += f\"{ingredients_tag} \"\n",
    "        for ingredient in ingredients:\n",
    "            primer += f\"\\n {ingredient} \"\n",
    "           \n",
    "    if len(instructions) > 0:\n",
    "        assert len(ingredients) > 0; \"You need to add ingredients before instructions\"\n",
    "        primer += f\"{instructions_tag} \"\n",
    "        for instruction_index, instruction in enumerate(instructions):\n",
    "            primer += f\"Step {instruction_index+1} \\n {instruction}\" \n",
    "    \n",
    "    output_text, recipe_finished = generate_recipe(primer, max_length=max_length)\n",
    "\n",
    "    # Check if it completed synthesis\n",
    "    if recipe_finished == False:\n",
    "        return None, primer\n",
    "\n",
    "    # Create it into a recipe dictionary\n",
    "    try:\n",
    "        recipe = recipe_to_dict(output_text)\n",
    "    except:\n",
    "        print(\"Recipe is in the wrong format\")\n",
    "        return None, primer\n",
    "        \n",
    "    # Add more reviews\n",
    "    for i in range(np.random.randint(number_of_reviews[0], number_of_reviews[1])):\n",
    "        try:\n",
    "            i_text, recipe_finished = generate_recipe(output_text.split(\"_rev\")[0] + \"_rev\")\n",
    "        except:\n",
    "            print(\"probably recipy too long\")\n",
    "            continue\n",
    "        try:\n",
    "            i_recipe = recipe_to_dict(i_text)\n",
    "            recipe[\"reviews\"].append(i_recipe[\"reviews\"][0])\n",
    "            recipe[\"ratings\"].append(i_recipe[\"ratings\"][0])\n",
    "        except:\n",
    "            continue\n",
    "\n",
    "    return recipe, primer"
   ]
  },
  {
   "cell_type": "code",
   "execution_count": 43,
   "metadata": {},
   "outputs": [],
   "source": [
    "recipe, primer = complete_recipe_generator(\"Apple pie\", \n",
    "                          [\"Desserts\", \"Pies\", \"Apple Pie\"], \n",
    "                          ['1 cup all-purpose flour',\n",
    "                          '1 ½ teaspoons salt',\n",
    "                          '1 cup white sugar',\n",
    "                          '½ cup butter',\n",
    "                          '1 egg',\n",
    "                          '1 ½ teaspoons vanilla extract',\n",
    "                          '1 teaspoon ground cinnamon',\n",
    "                          '1 cup chopped pecans'],\n",
    "                          [\"If you wish to make apple pie from scratch, you must first\"])"
   ]
  },
  {
   "cell_type": "code",
   "execution_count": 44,
   "metadata": {},
   "outputs": [
    {
     "data": {
      "text/plain": [
       "{'title': ' Apple pie ',\n",
       " 'categories': ['Desserts', 'Pies', 'Apple Pie'],\n",
       " 'ingredients': ['1 cup all-purpose flour',\n",
       "  '1 ½ teaspoons salt',\n",
       "  '1 cup white sugar',\n",
       "  '½ cup butter',\n",
       "  '1 egg',\n",
       "  '1 ½ teaspoons vanilla extract',\n",
       "  '1 teaspoon ground cinnamon',\n",
       "  '1 cup chopped pecans'],\n",
       " 'instructions': ['If you wish to make apple pie from scratch, you must first beat the flour and sugar together until well combined. ',\n",
       "  'Preheat oven to 325 degrees F (165 degrees C). ',\n",
       "  'Combine the egg, vanilla, cinnamon, and pecans in a medium bowl and stir into the flour mixture. Stir until well blended. ',\n",
       "  'Pour batter into an ungreased 9x13 inch pan. Bake at 325 degrees F (165 degrees C) for 45 minutes, or until a toothpick inserted into the center of the pie comes out clean.'],\n",
       " 'reviews': [' This is a great recipe for apple pie. I used 1/4 c. butter and 1 1/2 cups white sugar. It was very good. I used a pastry bag instead of an ungreased 9x13 pan and used 1 1/2 c. sugar and 1 1/2 c. applesauce instead of the 1/2 c. butter. I also used a pie pan with a lid on and a lid on the lid. I baked it at 325 for 45 min. and it was still very tender and very moist! ',\n",
       "  \" I am the only one who doesn't like apples so I made this pie. It was delicious. I added a little more cinnamon and a bit of ground nutmeg. I also made the topping with apples and it turned out really good. I will make this again. \",\n",
       "  ' I used 1 cup flour for the filling and 1 cup for the filling. I used 1 cup of applesauce for the topping and 1 cup of butter for the topping. I also added 1 tsp of ground nutmeg and 1 tsp of ground cloves to the batter. The topping was delicious! ',\n",
       "  \" I make this recipe every year for Christmas Eve. It's a big hit! It's easy to make and it's delicious. I use a 9x13 pan. I bake it in a 9x13 pan for 45 minutes. It is a great way to make apples. \",\n",
       "  ' This was very good. The pecans were a nice touch. I used 1/2 cup of butter and it worked out great! I also used 2 cups of white sugar instead of the 2 cups of sugar. ',\n",
       "  ' I had to use a whole lot of flour and sugar to make this. I used a whole cup of white sugar instead of the 1 cup I had on hand and it was a big hit with the whole family. I will be making this again and again. ',\n",
       "  ' I did not have any pecans so I used 1 cup and it was perfect! I used 1/2 cup of white sugar instead of 1 cup of sugar. I also used 2 eggs and 1/2 cup of vanilla. I also added 1/4 cup of ground cinnamon. I also added 1/4 cup of ground nutmeg. I also used 1/2 cup of butter instead of 1 cup and 1/2 cup of sugar. It was perfect! '],\n",
       " 'ratings': [4, 5, 5, 5, 5, 5, 5]}"
      ]
     },
     "execution_count": 44,
     "metadata": {},
     "output_type": "execute_result"
    }
   ],
   "source": [
    "recipe"
   ]
  },
  {
   "cell_type": "code",
   "execution_count": 45,
   "metadata": {},
   "outputs": [
    {
     "data": {
      "text/plain": [
       "'_tit Apple pie _cat Desserts \\n Pies \\n Apple Pie \\n _ing \\n 1 cup all-purpose flour \\n 1 ½ teaspoons salt \\n 1 cup white sugar \\n ½ cup butter \\n 1 egg \\n 1 ½ teaspoons vanilla extract \\n 1 teaspoon ground cinnamon \\n 1 cup chopped pecans _ins Step 1 \\n If you wish to make apple pie from scratch, you must first'"
      ]
     },
     "execution_count": 45,
     "metadata": {},
     "output_type": "execute_result"
    }
   ],
   "source": [
    "primer"
   ]
  },
  {
   "cell_type": "code",
   "execution_count": 10,
   "metadata": {},
   "outputs": [],
   "source": [
    "def generate_recipe(primer=\"_tit\", max_length=1000):\n",
    "\n",
    "    with torch.no_grad():\n",
    "        recipe_finished = False\n",
    "\n",
    "        cur_ids = torch.tensor(tokenizer.encode(primer)).unsqueeze(0).to(device)\n",
    "\n",
    "        for i in range(max_length):\n",
    "            if cur_ids.shape[1] > max_length:\n",
    "                break\n",
    "            outputs = model(cur_ids, labels=cur_ids)\n",
    "            loss, logits = outputs[:2]\n",
    "            softmax_logits = torch.softmax(logits[0,-1], dim=0) #Take the first(from only one in this case) batch and the last predicted embedding\n",
    "            if i < 3:\n",
    "                n = 20\n",
    "            else:\n",
    "                n = 3\n",
    "            next_token_id = choose_from_top(softmax_logits.to('cpu').numpy(), n=n) #Randomly(from the topN probability distribution) select the next word\n",
    "            cur_ids = torch.cat([cur_ids, torch.ones((1,1)).long().to(device) * next_token_id], dim = 1) # Add the last word to the running sequence\n",
    "\n",
    "            if next_token_id in tokenizer.encode('_end'):\n",
    "                recipe_finished = True\n",
    "                break\n",
    "\n",
    "        output_text = \"\"\n",
    "        if recipe_finished:\n",
    "\n",
    "            output_list = list(cur_ids.squeeze().to('cpu').numpy())\n",
    "            output_text = tokenizer.decode(output_list)\n",
    "            # This is just temporary:\n",
    "#             output_text = output_text.replace(\"\\u2009\", '')\n",
    "\n",
    "        return output_text, recipe_finished"
   ]
  },
  {
   "cell_type": "code",
   "execution_count": 102,
   "metadata": {},
   "outputs": [],
   "source": []
  },
  {
   "cell_type": "code",
   "execution_count": 15,
   "metadata": {},
   "outputs": [
    {
     "data": {
      "text/plain": [
       "<All keys matched successfully>"
      ]
     },
     "execution_count": 15,
     "metadata": {},
     "output_type": "execute_result"
    }
   ],
   "source": [
    "MODEL_EPOCH = 4\n",
    "models_folder = \"trained_models\"\n",
    "model_path = os.path.join(models_folder, f\"gpt2_recipe_reviews_ingredients_categories_2_{MODEL_EPOCH}.pt\")\n",
    "model.load_state_dict(torch.load(model_path))"
   ]
  },
  {
   "cell_type": "code",
   "execution_count": 11,
   "metadata": {},
   "outputs": [
    {
     "ename": "KeyboardInterrupt",
     "evalue": "",
     "output_type": "error",
     "traceback": [
      "\u001b[1;31m---------------------------------------------------------------------------\u001b[0m",
      "\u001b[1;31mKeyboardInterrupt\u001b[0m                         Traceback (most recent call last)",
      "\u001b[1;32m<ipython-input-11-1de2b28b822a>\u001b[0m in \u001b[0;36m<module>\u001b[1;34m\u001b[0m\n\u001b[0;32m     25\u001b[0m \u001b[1;33m\u001b[0m\u001b[0m\n\u001b[0;32m     26\u001b[0m     \u001b[1;31m# Generate recipe\u001b[0m\u001b[1;33m\u001b[0m\u001b[1;33m\u001b[0m\u001b[1;33m\u001b[0m\u001b[0m\n\u001b[1;32m---> 27\u001b[1;33m     \u001b[0moutput_text\u001b[0m\u001b[1;33m,\u001b[0m \u001b[0mrecipe_finished\u001b[0m \u001b[1;33m=\u001b[0m \u001b[0mgenerate_recipe\u001b[0m\u001b[1;33m(\u001b[0m\u001b[1;34m\"_tit\"\u001b[0m\u001b[1;33m)\u001b[0m\u001b[1;33m\u001b[0m\u001b[1;33m\u001b[0m\u001b[0m\n\u001b[0m\u001b[0;32m     28\u001b[0m \u001b[1;33m\u001b[0m\u001b[0m\n\u001b[0;32m     29\u001b[0m     \u001b[1;31m# Check if it completed synthesis\u001b[0m\u001b[1;33m\u001b[0m\u001b[1;33m\u001b[0m\u001b[1;33m\u001b[0m\u001b[0m\n",
      "\u001b[1;32m<ipython-input-10-e47e9fd8e494>\u001b[0m in \u001b[0;36mgenerate_recipe\u001b[1;34m(primer, max_length)\u001b[0m\n\u001b[0;32m      9\u001b[0m             \u001b[1;32mif\u001b[0m \u001b[0mcur_ids\u001b[0m\u001b[1;33m.\u001b[0m\u001b[0mshape\u001b[0m\u001b[1;33m[\u001b[0m\u001b[1;36m1\u001b[0m\u001b[1;33m]\u001b[0m \u001b[1;33m>\u001b[0m \u001b[0mmax_length\u001b[0m\u001b[1;33m:\u001b[0m\u001b[1;33m\u001b[0m\u001b[1;33m\u001b[0m\u001b[0m\n\u001b[0;32m     10\u001b[0m                 \u001b[1;32mbreak\u001b[0m\u001b[1;33m\u001b[0m\u001b[1;33m\u001b[0m\u001b[0m\n\u001b[1;32m---> 11\u001b[1;33m             \u001b[0moutputs\u001b[0m \u001b[1;33m=\u001b[0m \u001b[0mmodel\u001b[0m\u001b[1;33m(\u001b[0m\u001b[0mcur_ids\u001b[0m\u001b[1;33m,\u001b[0m \u001b[0mlabels\u001b[0m\u001b[1;33m=\u001b[0m\u001b[0mcur_ids\u001b[0m\u001b[1;33m)\u001b[0m\u001b[1;33m\u001b[0m\u001b[1;33m\u001b[0m\u001b[0m\n\u001b[0m\u001b[0;32m     12\u001b[0m             \u001b[0mloss\u001b[0m\u001b[1;33m,\u001b[0m \u001b[0mlogits\u001b[0m \u001b[1;33m=\u001b[0m \u001b[0moutputs\u001b[0m\u001b[1;33m[\u001b[0m\u001b[1;33m:\u001b[0m\u001b[1;36m2\u001b[0m\u001b[1;33m]\u001b[0m\u001b[1;33m\u001b[0m\u001b[1;33m\u001b[0m\u001b[0m\n\u001b[0;32m     13\u001b[0m             \u001b[0msoftmax_logits\u001b[0m \u001b[1;33m=\u001b[0m \u001b[0mtorch\u001b[0m\u001b[1;33m.\u001b[0m\u001b[0msoftmax\u001b[0m\u001b[1;33m(\u001b[0m\u001b[0mlogits\u001b[0m\u001b[1;33m[\u001b[0m\u001b[1;36m0\u001b[0m\u001b[1;33m,\u001b[0m\u001b[1;33m-\u001b[0m\u001b[1;36m1\u001b[0m\u001b[1;33m]\u001b[0m\u001b[1;33m,\u001b[0m \u001b[0mdim\u001b[0m\u001b[1;33m=\u001b[0m\u001b[1;36m0\u001b[0m\u001b[1;33m)\u001b[0m \u001b[1;31m#Take the first(from only one in this case) batch and the last predicted embedding\u001b[0m\u001b[1;33m\u001b[0m\u001b[1;33m\u001b[0m\u001b[0m\n",
      "\u001b[1;32m~\\Anaconda3\\envs\\Tensorflow 2\\lib\\site-packages\\torch\\nn\\modules\\module.py\u001b[0m in \u001b[0;36m__call__\u001b[1;34m(self, *input, **kwargs)\u001b[0m\n\u001b[0;32m    548\u001b[0m             \u001b[0mresult\u001b[0m \u001b[1;33m=\u001b[0m \u001b[0mself\u001b[0m\u001b[1;33m.\u001b[0m\u001b[0m_slow_forward\u001b[0m\u001b[1;33m(\u001b[0m\u001b[1;33m*\u001b[0m\u001b[0minput\u001b[0m\u001b[1;33m,\u001b[0m \u001b[1;33m**\u001b[0m\u001b[0mkwargs\u001b[0m\u001b[1;33m)\u001b[0m\u001b[1;33m\u001b[0m\u001b[1;33m\u001b[0m\u001b[0m\n\u001b[0;32m    549\u001b[0m         \u001b[1;32melse\u001b[0m\u001b[1;33m:\u001b[0m\u001b[1;33m\u001b[0m\u001b[1;33m\u001b[0m\u001b[0m\n\u001b[1;32m--> 550\u001b[1;33m             \u001b[0mresult\u001b[0m \u001b[1;33m=\u001b[0m \u001b[0mself\u001b[0m\u001b[1;33m.\u001b[0m\u001b[0mforward\u001b[0m\u001b[1;33m(\u001b[0m\u001b[1;33m*\u001b[0m\u001b[0minput\u001b[0m\u001b[1;33m,\u001b[0m \u001b[1;33m**\u001b[0m\u001b[0mkwargs\u001b[0m\u001b[1;33m)\u001b[0m\u001b[1;33m\u001b[0m\u001b[1;33m\u001b[0m\u001b[0m\n\u001b[0m\u001b[0;32m    551\u001b[0m         \u001b[1;32mfor\u001b[0m \u001b[0mhook\u001b[0m \u001b[1;32min\u001b[0m \u001b[0mself\u001b[0m\u001b[1;33m.\u001b[0m\u001b[0m_forward_hooks\u001b[0m\u001b[1;33m.\u001b[0m\u001b[0mvalues\u001b[0m\u001b[1;33m(\u001b[0m\u001b[1;33m)\u001b[0m\u001b[1;33m:\u001b[0m\u001b[1;33m\u001b[0m\u001b[1;33m\u001b[0m\u001b[0m\n\u001b[0;32m    552\u001b[0m             \u001b[0mhook_result\u001b[0m \u001b[1;33m=\u001b[0m \u001b[0mhook\u001b[0m\u001b[1;33m(\u001b[0m\u001b[0mself\u001b[0m\u001b[1;33m,\u001b[0m \u001b[0minput\u001b[0m\u001b[1;33m,\u001b[0m \u001b[0mresult\u001b[0m\u001b[1;33m)\u001b[0m\u001b[1;33m\u001b[0m\u001b[1;33m\u001b[0m\u001b[0m\n",
      "\u001b[1;32m~\\Anaconda3\\envs\\Tensorflow 2\\lib\\site-packages\\transformers\\modeling_gpt2.py\u001b[0m in \u001b[0;36mforward\u001b[1;34m(self, input_ids, past, attention_mask, token_type_ids, position_ids, head_mask, inputs_embeds, labels, use_cache)\u001b[0m\n\u001b[0;32m    613\u001b[0m             \u001b[0mhead_mask\u001b[0m\u001b[1;33m=\u001b[0m\u001b[0mhead_mask\u001b[0m\u001b[1;33m,\u001b[0m\u001b[1;33m\u001b[0m\u001b[1;33m\u001b[0m\u001b[0m\n\u001b[0;32m    614\u001b[0m             \u001b[0minputs_embeds\u001b[0m\u001b[1;33m=\u001b[0m\u001b[0minputs_embeds\u001b[0m\u001b[1;33m,\u001b[0m\u001b[1;33m\u001b[0m\u001b[1;33m\u001b[0m\u001b[0m\n\u001b[1;32m--> 615\u001b[1;33m             \u001b[0muse_cache\u001b[0m\u001b[1;33m=\u001b[0m\u001b[0muse_cache\u001b[0m\u001b[1;33m,\u001b[0m\u001b[1;33m\u001b[0m\u001b[1;33m\u001b[0m\u001b[0m\n\u001b[0m\u001b[0;32m    616\u001b[0m         )\n\u001b[0;32m    617\u001b[0m         \u001b[0mhidden_states\u001b[0m \u001b[1;33m=\u001b[0m \u001b[0mtransformer_outputs\u001b[0m\u001b[1;33m[\u001b[0m\u001b[1;36m0\u001b[0m\u001b[1;33m]\u001b[0m\u001b[1;33m\u001b[0m\u001b[1;33m\u001b[0m\u001b[0m\n",
      "\u001b[1;32m~\\Anaconda3\\envs\\Tensorflow 2\\lib\\site-packages\\torch\\nn\\modules\\module.py\u001b[0m in \u001b[0;36m__call__\u001b[1;34m(self, *input, **kwargs)\u001b[0m\n\u001b[0;32m    548\u001b[0m             \u001b[0mresult\u001b[0m \u001b[1;33m=\u001b[0m \u001b[0mself\u001b[0m\u001b[1;33m.\u001b[0m\u001b[0m_slow_forward\u001b[0m\u001b[1;33m(\u001b[0m\u001b[1;33m*\u001b[0m\u001b[0minput\u001b[0m\u001b[1;33m,\u001b[0m \u001b[1;33m**\u001b[0m\u001b[0mkwargs\u001b[0m\u001b[1;33m)\u001b[0m\u001b[1;33m\u001b[0m\u001b[1;33m\u001b[0m\u001b[0m\n\u001b[0;32m    549\u001b[0m         \u001b[1;32melse\u001b[0m\u001b[1;33m:\u001b[0m\u001b[1;33m\u001b[0m\u001b[1;33m\u001b[0m\u001b[0m\n\u001b[1;32m--> 550\u001b[1;33m             \u001b[0mresult\u001b[0m \u001b[1;33m=\u001b[0m \u001b[0mself\u001b[0m\u001b[1;33m.\u001b[0m\u001b[0mforward\u001b[0m\u001b[1;33m(\u001b[0m\u001b[1;33m*\u001b[0m\u001b[0minput\u001b[0m\u001b[1;33m,\u001b[0m \u001b[1;33m**\u001b[0m\u001b[0mkwargs\u001b[0m\u001b[1;33m)\u001b[0m\u001b[1;33m\u001b[0m\u001b[1;33m\u001b[0m\u001b[0m\n\u001b[0m\u001b[0;32m    551\u001b[0m         \u001b[1;32mfor\u001b[0m \u001b[0mhook\u001b[0m \u001b[1;32min\u001b[0m \u001b[0mself\u001b[0m\u001b[1;33m.\u001b[0m\u001b[0m_forward_hooks\u001b[0m\u001b[1;33m.\u001b[0m\u001b[0mvalues\u001b[0m\u001b[1;33m(\u001b[0m\u001b[1;33m)\u001b[0m\u001b[1;33m:\u001b[0m\u001b[1;33m\u001b[0m\u001b[1;33m\u001b[0m\u001b[0m\n\u001b[0;32m    552\u001b[0m             \u001b[0mhook_result\u001b[0m \u001b[1;33m=\u001b[0m \u001b[0mhook\u001b[0m\u001b[1;33m(\u001b[0m\u001b[0mself\u001b[0m\u001b[1;33m,\u001b[0m \u001b[0minput\u001b[0m\u001b[1;33m,\u001b[0m \u001b[0mresult\u001b[0m\u001b[1;33m)\u001b[0m\u001b[1;33m\u001b[0m\u001b[1;33m\u001b[0m\u001b[0m\n",
      "\u001b[1;32m~\\Anaconda3\\envs\\Tensorflow 2\\lib\\site-packages\\transformers\\modeling_gpt2.py\u001b[0m in \u001b[0;36mforward\u001b[1;34m(self, input_ids, past, attention_mask, token_type_ids, position_ids, head_mask, inputs_embeds, use_cache)\u001b[0m\n\u001b[0;32m    497\u001b[0m                 \u001b[0mattention_mask\u001b[0m\u001b[1;33m=\u001b[0m\u001b[0mattention_mask\u001b[0m\u001b[1;33m,\u001b[0m\u001b[1;33m\u001b[0m\u001b[1;33m\u001b[0m\u001b[0m\n\u001b[0;32m    498\u001b[0m                 \u001b[0mhead_mask\u001b[0m\u001b[1;33m=\u001b[0m\u001b[0mhead_mask\u001b[0m\u001b[1;33m[\u001b[0m\u001b[0mi\u001b[0m\u001b[1;33m]\u001b[0m\u001b[1;33m,\u001b[0m\u001b[1;33m\u001b[0m\u001b[1;33m\u001b[0m\u001b[0m\n\u001b[1;32m--> 499\u001b[1;33m                 \u001b[0muse_cache\u001b[0m\u001b[1;33m=\u001b[0m\u001b[0muse_cache\u001b[0m\u001b[1;33m,\u001b[0m\u001b[1;33m\u001b[0m\u001b[1;33m\u001b[0m\u001b[0m\n\u001b[0m\u001b[0;32m    500\u001b[0m             )\n\u001b[0;32m    501\u001b[0m \u001b[1;33m\u001b[0m\u001b[0m\n",
      "\u001b[1;32m~\\Anaconda3\\envs\\Tensorflow 2\\lib\\site-packages\\torch\\nn\\modules\\module.py\u001b[0m in \u001b[0;36m__call__\u001b[1;34m(self, *input, **kwargs)\u001b[0m\n\u001b[0;32m    548\u001b[0m             \u001b[0mresult\u001b[0m \u001b[1;33m=\u001b[0m \u001b[0mself\u001b[0m\u001b[1;33m.\u001b[0m\u001b[0m_slow_forward\u001b[0m\u001b[1;33m(\u001b[0m\u001b[1;33m*\u001b[0m\u001b[0minput\u001b[0m\u001b[1;33m,\u001b[0m \u001b[1;33m**\u001b[0m\u001b[0mkwargs\u001b[0m\u001b[1;33m)\u001b[0m\u001b[1;33m\u001b[0m\u001b[1;33m\u001b[0m\u001b[0m\n\u001b[0;32m    549\u001b[0m         \u001b[1;32melse\u001b[0m\u001b[1;33m:\u001b[0m\u001b[1;33m\u001b[0m\u001b[1;33m\u001b[0m\u001b[0m\n\u001b[1;32m--> 550\u001b[1;33m             \u001b[0mresult\u001b[0m \u001b[1;33m=\u001b[0m \u001b[0mself\u001b[0m\u001b[1;33m.\u001b[0m\u001b[0mforward\u001b[0m\u001b[1;33m(\u001b[0m\u001b[1;33m*\u001b[0m\u001b[0minput\u001b[0m\u001b[1;33m,\u001b[0m \u001b[1;33m**\u001b[0m\u001b[0mkwargs\u001b[0m\u001b[1;33m)\u001b[0m\u001b[1;33m\u001b[0m\u001b[1;33m\u001b[0m\u001b[0m\n\u001b[0m\u001b[0;32m    551\u001b[0m         \u001b[1;32mfor\u001b[0m \u001b[0mhook\u001b[0m \u001b[1;32min\u001b[0m \u001b[0mself\u001b[0m\u001b[1;33m.\u001b[0m\u001b[0m_forward_hooks\u001b[0m\u001b[1;33m.\u001b[0m\u001b[0mvalues\u001b[0m\u001b[1;33m(\u001b[0m\u001b[1;33m)\u001b[0m\u001b[1;33m:\u001b[0m\u001b[1;33m\u001b[0m\u001b[1;33m\u001b[0m\u001b[0m\n\u001b[0;32m    552\u001b[0m             \u001b[0mhook_result\u001b[0m \u001b[1;33m=\u001b[0m \u001b[0mhook\u001b[0m\u001b[1;33m(\u001b[0m\u001b[0mself\u001b[0m\u001b[1;33m,\u001b[0m \u001b[0minput\u001b[0m\u001b[1;33m,\u001b[0m \u001b[0mresult\u001b[0m\u001b[1;33m)\u001b[0m\u001b[1;33m\u001b[0m\u001b[1;33m\u001b[0m\u001b[0m\n",
      "\u001b[1;32m~\\Anaconda3\\envs\\Tensorflow 2\\lib\\site-packages\\transformers\\modeling_gpt2.py\u001b[0m in \u001b[0;36mforward\u001b[1;34m(self, x, layer_past, attention_mask, head_mask, use_cache)\u001b[0m\n\u001b[0;32m    239\u001b[0m \u001b[1;33m\u001b[0m\u001b[0m\n\u001b[0;32m    240\u001b[0m         \u001b[0mx\u001b[0m \u001b[1;33m=\u001b[0m \u001b[0mx\u001b[0m \u001b[1;33m+\u001b[0m \u001b[0ma\u001b[0m\u001b[1;33m\u001b[0m\u001b[1;33m\u001b[0m\u001b[0m\n\u001b[1;32m--> 241\u001b[1;33m         \u001b[0mm\u001b[0m \u001b[1;33m=\u001b[0m \u001b[0mself\u001b[0m\u001b[1;33m.\u001b[0m\u001b[0mmlp\u001b[0m\u001b[1;33m(\u001b[0m\u001b[0mself\u001b[0m\u001b[1;33m.\u001b[0m\u001b[0mln_2\u001b[0m\u001b[1;33m(\u001b[0m\u001b[0mx\u001b[0m\u001b[1;33m)\u001b[0m\u001b[1;33m)\u001b[0m\u001b[1;33m\u001b[0m\u001b[1;33m\u001b[0m\u001b[0m\n\u001b[0m\u001b[0;32m    242\u001b[0m         \u001b[0mx\u001b[0m \u001b[1;33m=\u001b[0m \u001b[0mx\u001b[0m \u001b[1;33m+\u001b[0m \u001b[0mm\u001b[0m\u001b[1;33m\u001b[0m\u001b[1;33m\u001b[0m\u001b[0m\n\u001b[0;32m    243\u001b[0m \u001b[1;33m\u001b[0m\u001b[0m\n",
      "\u001b[1;32m~\\Anaconda3\\envs\\Tensorflow 2\\lib\\site-packages\\torch\\nn\\modules\\module.py\u001b[0m in \u001b[0;36m__call__\u001b[1;34m(self, *input, **kwargs)\u001b[0m\n\u001b[0;32m    548\u001b[0m             \u001b[0mresult\u001b[0m \u001b[1;33m=\u001b[0m \u001b[0mself\u001b[0m\u001b[1;33m.\u001b[0m\u001b[0m_slow_forward\u001b[0m\u001b[1;33m(\u001b[0m\u001b[1;33m*\u001b[0m\u001b[0minput\u001b[0m\u001b[1;33m,\u001b[0m \u001b[1;33m**\u001b[0m\u001b[0mkwargs\u001b[0m\u001b[1;33m)\u001b[0m\u001b[1;33m\u001b[0m\u001b[1;33m\u001b[0m\u001b[0m\n\u001b[0;32m    549\u001b[0m         \u001b[1;32melse\u001b[0m\u001b[1;33m:\u001b[0m\u001b[1;33m\u001b[0m\u001b[1;33m\u001b[0m\u001b[0m\n\u001b[1;32m--> 550\u001b[1;33m             \u001b[0mresult\u001b[0m \u001b[1;33m=\u001b[0m \u001b[0mself\u001b[0m\u001b[1;33m.\u001b[0m\u001b[0mforward\u001b[0m\u001b[1;33m(\u001b[0m\u001b[1;33m*\u001b[0m\u001b[0minput\u001b[0m\u001b[1;33m,\u001b[0m \u001b[1;33m**\u001b[0m\u001b[0mkwargs\u001b[0m\u001b[1;33m)\u001b[0m\u001b[1;33m\u001b[0m\u001b[1;33m\u001b[0m\u001b[0m\n\u001b[0m\u001b[0;32m    551\u001b[0m         \u001b[1;32mfor\u001b[0m \u001b[0mhook\u001b[0m \u001b[1;32min\u001b[0m \u001b[0mself\u001b[0m\u001b[1;33m.\u001b[0m\u001b[0m_forward_hooks\u001b[0m\u001b[1;33m.\u001b[0m\u001b[0mvalues\u001b[0m\u001b[1;33m(\u001b[0m\u001b[1;33m)\u001b[0m\u001b[1;33m:\u001b[0m\u001b[1;33m\u001b[0m\u001b[1;33m\u001b[0m\u001b[0m\n\u001b[0;32m    552\u001b[0m             \u001b[0mhook_result\u001b[0m \u001b[1;33m=\u001b[0m \u001b[0mhook\u001b[0m\u001b[1;33m(\u001b[0m\u001b[0mself\u001b[0m\u001b[1;33m,\u001b[0m \u001b[0minput\u001b[0m\u001b[1;33m,\u001b[0m \u001b[0mresult\u001b[0m\u001b[1;33m)\u001b[0m\u001b[1;33m\u001b[0m\u001b[1;33m\u001b[0m\u001b[0m\n",
      "\u001b[1;32m~\\Anaconda3\\envs\\Tensorflow 2\\lib\\site-packages\\transformers\\modeling_gpt2.py\u001b[0m in \u001b[0;36mforward\u001b[1;34m(self, x)\u001b[0m\n\u001b[0;32m    214\u001b[0m \u001b[1;33m\u001b[0m\u001b[0m\n\u001b[0;32m    215\u001b[0m     \u001b[1;32mdef\u001b[0m \u001b[0mforward\u001b[0m\u001b[1;33m(\u001b[0m\u001b[0mself\u001b[0m\u001b[1;33m,\u001b[0m \u001b[0mx\u001b[0m\u001b[1;33m)\u001b[0m\u001b[1;33m:\u001b[0m\u001b[1;33m\u001b[0m\u001b[1;33m\u001b[0m\u001b[0m\n\u001b[1;32m--> 216\u001b[1;33m         \u001b[0mh\u001b[0m \u001b[1;33m=\u001b[0m \u001b[0mself\u001b[0m\u001b[1;33m.\u001b[0m\u001b[0mact\u001b[0m\u001b[1;33m(\u001b[0m\u001b[0mself\u001b[0m\u001b[1;33m.\u001b[0m\u001b[0mc_fc\u001b[0m\u001b[1;33m(\u001b[0m\u001b[0mx\u001b[0m\u001b[1;33m)\u001b[0m\u001b[1;33m)\u001b[0m\u001b[1;33m\u001b[0m\u001b[1;33m\u001b[0m\u001b[0m\n\u001b[0m\u001b[0;32m    217\u001b[0m         \u001b[0mh2\u001b[0m \u001b[1;33m=\u001b[0m \u001b[0mself\u001b[0m\u001b[1;33m.\u001b[0m\u001b[0mc_proj\u001b[0m\u001b[1;33m(\u001b[0m\u001b[0mh\u001b[0m\u001b[1;33m)\u001b[0m\u001b[1;33m\u001b[0m\u001b[1;33m\u001b[0m\u001b[0m\n\u001b[0;32m    218\u001b[0m         \u001b[1;32mreturn\u001b[0m \u001b[0mself\u001b[0m\u001b[1;33m.\u001b[0m\u001b[0mdropout\u001b[0m\u001b[1;33m(\u001b[0m\u001b[0mh2\u001b[0m\u001b[1;33m)\u001b[0m\u001b[1;33m\u001b[0m\u001b[1;33m\u001b[0m\u001b[0m\n",
      "\u001b[1;32m~\\Anaconda3\\envs\\Tensorflow 2\\lib\\site-packages\\transformers\\activations.py\u001b[0m in \u001b[0;36mgelu_new\u001b[1;34m(x)\u001b[0m\n\u001b[0;32m     27\u001b[0m         \u001b[0mAlso\u001b[0m \u001b[0msee\u001b[0m \u001b[0mhttps\u001b[0m\u001b[1;33m:\u001b[0m\u001b[1;33m//\u001b[0m\u001b[0marxiv\u001b[0m\u001b[1;33m.\u001b[0m\u001b[0morg\u001b[0m\u001b[1;33m/\u001b[0m\u001b[0mabs\u001b[0m\u001b[1;33m/\u001b[0m\u001b[1;36m1606.08415\u001b[0m\u001b[1;33m\u001b[0m\u001b[1;33m\u001b[0m\u001b[0m\n\u001b[0;32m     28\u001b[0m     \"\"\"\n\u001b[1;32m---> 29\u001b[1;33m     \u001b[1;32mreturn\u001b[0m \u001b[1;36m0.5\u001b[0m \u001b[1;33m*\u001b[0m \u001b[0mx\u001b[0m \u001b[1;33m*\u001b[0m \u001b[1;33m(\u001b[0m\u001b[1;36m1.0\u001b[0m \u001b[1;33m+\u001b[0m \u001b[0mtorch\u001b[0m\u001b[1;33m.\u001b[0m\u001b[0mtanh\u001b[0m\u001b[1;33m(\u001b[0m\u001b[0mmath\u001b[0m\u001b[1;33m.\u001b[0m\u001b[0msqrt\u001b[0m\u001b[1;33m(\u001b[0m\u001b[1;36m2.0\u001b[0m \u001b[1;33m/\u001b[0m \u001b[0mmath\u001b[0m\u001b[1;33m.\u001b[0m\u001b[0mpi\u001b[0m\u001b[1;33m)\u001b[0m \u001b[1;33m*\u001b[0m \u001b[1;33m(\u001b[0m\u001b[0mx\u001b[0m \u001b[1;33m+\u001b[0m \u001b[1;36m0.044715\u001b[0m \u001b[1;33m*\u001b[0m \u001b[0mtorch\u001b[0m\u001b[1;33m.\u001b[0m\u001b[0mpow\u001b[0m\u001b[1;33m(\u001b[0m\u001b[0mx\u001b[0m\u001b[1;33m,\u001b[0m \u001b[1;36m3.0\u001b[0m\u001b[1;33m)\u001b[0m\u001b[1;33m)\u001b[0m\u001b[1;33m)\u001b[0m\u001b[1;33m)\u001b[0m\u001b[1;33m\u001b[0m\u001b[1;33m\u001b[0m\u001b[0m\n\u001b[0m\u001b[0;32m     30\u001b[0m \u001b[1;33m\u001b[0m\u001b[0m\n\u001b[0;32m     31\u001b[0m \u001b[1;33m\u001b[0m\u001b[0m\n",
      "\u001b[1;31mKeyboardInterrupt\u001b[0m: "
     ]
    }
   ],
   "source": [
    "\n",
    "\n",
    "safe_file = 'recipes_3_b.json'\n",
    "\n",
    "try:\n",
    "    with open(safe_file, 'r') as file:\n",
    "        recipes = json.load(file)\n",
    "except:\n",
    "    recipes = []\n",
    "    \n",
    "\n",
    "\n",
    "# model_path = os.path.join(models_folder, f\"gpt2_medium_joker_{MODEL_EPOCH}.pt\")\n",
    "\n",
    "recipes_output_file_path = f'generated_{MODEL_EPOCH}_reviews_ingredients_categories.recipe'\n",
    "\n",
    "model.eval()\n",
    "if os.path.exists(recipes_output_file_path):\n",
    "    os.remove(recipes_output_file_path)\n",
    "    \n",
    "recipe_num = 0\n",
    "for recipe_idx in range(1000):\n",
    "   \n",
    "    # Generate recipe\n",
    "    output_text, recipe_finished = generate_recipe(\"_tit\")\n",
    "\n",
    "    # Check if it completed synthesis\n",
    "    if recipe_finished == False:\n",
    "        continue\n",
    "\n",
    "    # Create it into a recipe dictionary\n",
    "    try:\n",
    "        recipe = recipe_to_dict(output_text)\n",
    "    except:\n",
    "        print(\"Recipe is in the wrong format\")\n",
    "        continue\n",
    "        \n",
    "    # Add more reviews\n",
    "    for i in range(np.random.randint(5,10)):\n",
    "        try:\n",
    "            i_text, recipe_finished = generate_recipe(output_text.split(\"_rev\")[0] + \"_rev\")\n",
    "        except:\n",
    "            print(\"probably recipy too long\")\n",
    "            continue\n",
    "        try:\n",
    "            i_recipe = recipe_to_dict(i_text)\n",
    "            recipe[\"reviews\"].append(i_recipe[\"reviews\"][0])\n",
    "            recipe[\"ratings\"].append(i_recipe[\"ratings\"][0])\n",
    "        except:\n",
    "            continue\n",
    "        \n",
    "    # Add recipe to list\n",
    "    recipe[\"id\"]=f\"{int(time.time())}-{recipe_idx}\"\n",
    "    recipes.append(recipe)\n",
    "    \n",
    "    # Save all recipes\n",
    "    with open(safe_file, 'w') as file:\n",
    "        file.write(json.dumps(recipes, sort_keys=True, indent=4, separators=(',', ': ')))\n",
    "        \n",
    "    break\n",
    "\n"
   ]
  },
  {
   "cell_type": "code",
   "execution_count": 24,
   "metadata": {},
   "outputs": [
    {
     "data": {
      "text/plain": [
       "['Soups, Stews and Chili', 'Soup', 'Vegetable Soup']"
      ]
     },
     "execution_count": 24,
     "metadata": {},
     "output_type": "execute_result"
    }
   ],
   "source": [
    "\n",
    "categories"
   ]
  },
  {
   "cell_type": "code",
   "execution_count": 88,
   "metadata": {},
   "outputs": [
    {
     "data": {
      "text/plain": [
       "{'title': ' Baked Zucchini ',\n",
       " 'ingredients': ['2 pounds zucchini, cut into wedges',\n",
       "  '1 cup butter',\n",
       "  '2 eggs',\n",
       "  '½ teaspoon salt',\n",
       "  '¼ cup milk',\n",
       "  '2 teaspoons ground cumin',\n",
       "  '¼ teaspoon ground black pepper',\n",
       "  '1 cup shredded sharp Cheddar cheese',\n",
       "  '1\\u2009½ cups shredded Swiss cheese',\n",
       "  '1\\u2009½ cups shredded mozzarella cheese'],\n",
       " 'instructions': ['Preheat oven to 400 degrees F (200 degrees C). Grease a 9x13 inch baking dish. ',\n",
       "  'Melt butter in a skillet over medium-high heat. Add eggs one at a time, and saute until lightly browned. Add salt, milk, and cumin. Stir in cheese, and cook until melted and bubbly. ',\n",
       "  'In a large bowl, combine zucchini, melted butter, eggs, salt, and cheese; mix well. Spread into prepared baking dish. ',\n",
       "  'Bake in preheated oven for 30 minutes, or until heated through.'],\n",
       " 'reviews': [' My husband loves this recipe! He has never had zucchini before so I made this for him and he loved it. I used the same recipe as he had but he loved the zucchini and I used a little less cumin and a bit more cheese. I also used 1 1/2 c shredded mozzarella and 1/4 c shredded shredded Monterey Jack cheese. This is a keeper! ',\n",
       "  ' This was very good! I used a little less cream and it was very good! I also used frozen spinach and it was very nice. I will make this one again. '],\n",
       " 'ratings': [5]}"
      ]
     },
     "execution_count": 88,
     "metadata": {},
     "output_type": "execute_result"
    }
   ],
   "source": [
    "recipe"
   ]
  },
  {
   "cell_type": "code",
   "execution_count": 73,
   "metadata": {},
   "outputs": [
    {
     "data": {
      "text/plain": [
       "'_tit Chicken Casserole I _cat \\n Meat and Poultry \\n Chicken \\n Chicken Breasts \\n Skillet _ing \\n 2 (10.75 ounce) cans condensed cream of chicken soup \\n 2 (10.75 ounce) cans condensed cream of mushroom soup \\n 1 (8 ounce) package frozen whipped topping, thawed \\n 1 (8 ounce) package frozen whipped topping, thawed \\n 1 (8 ounce) package frozen chopped spinach, thawed \\n 1 (4 ounce) can sliced green chile peppers, with juice \\n 1 (16 ounce) package shredded Cheddar cheese _ins Step 1 \\n In a large skillet over medium heat, combine soup, mushroom soup, whipped topping and frozen spinach. Cook until spinach is tender, about 10 minutes. Drain and set aside. \\n Step 2 \\n In a large bowl, mix together spinach, green chile pepper, Cheddar cheese and spinach mixture. Pour mixture over chicken and serve. \\n _rev I made this recipe for a party and everyone raved about how it was delicious and easy to make. I used a can of cream of chicken soup and a can of cream of mushroom and it was a hit. I also added some shredded cheddar cheese and some diced onion and it was great. I served it with a side of shredded cheese and a little salsa. _rat 5 _end'"
      ]
     },
     "execution_count": 73,
     "metadata": {},
     "output_type": "execute_result"
    }
   ],
   "source": [
    "text, recipe_finished = generate_recipe(\"_tit\")\n",
    "text"
   ]
  },
  {
   "cell_type": "code",
   "execution_count": 76,
   "metadata": {},
   "outputs": [
    {
     "data": {
      "text/plain": [
       "'_tit Chicken Casserole I _cat \\n Meat and Poultry \\n Chicken \\n Chicken Breasts \\n Skillet _ing \\n 2 (10.75 ounce) cans condensed cream of chicken soup \\n 2 (10.75 ounce) cans condensed cream of mushroom soup \\n 1 (8 ounce) package frozen whipped topping, thawed \\n 1 (8 ounce) package frozen whipped topping, thawed \\n 1 (8 ounce) package frozen chopped spinach, thawed \\n 1 (4 ounce) can sliced green chile peppers, with juice \\n 1 (16 ounce) package shredded Cheddar cheese _ins Step 1 \\n In a large skillet over medium heat, combine soup, mushroom soup, whipped topping and frozen spinach. Cook until spinach is tender, about 10 minutes. Drain and set aside. \\n Step 2 \\n In a large bowl, mix together spinach, green chile pepper, Cheddar cheese and spinach mixture. Pour mixture over chicken and serve. \\n _rev'"
      ]
     },
     "execution_count": 76,
     "metadata": {},
     "output_type": "execute_result"
    }
   ],
   "source": []
  },
  {
   "cell_type": "code",
   "execution_count": 86,
   "metadata": {},
   "outputs": [
    {
     "name": "stdout",
     "output_type": "stream",
     "text": [
      "_tit Chicken Casserole I _cat \n",
      " Meat and Poultry \n",
      " Chicken \n",
      " Chicken Breasts \n",
      " Skillet _ing \n",
      " 2 (10.75 ounce) cans condensed cream of chicken soup \n",
      " 2 (10.75 ounce) cans condensed cream of mushroom soup \n",
      " 1 (8 ounce) package frozen whipped topping, thawed \n",
      " 1 (8 ounce) package frozen whipped topping, thawed \n",
      " 1 (8 ounce) package frozen chopped spinach, thawed \n",
      " 1 (4 ounce) can sliced green chile peppers, with juice \n",
      " 1 (16 ounce) package shredded Cheddar cheese _ins Step 1 \n",
      " In a large skillet over medium heat, combine soup, mushroom soup, whipped topping and frozen spinach. Cook until spinach is tender, about 10 minutes. Drain and set aside. \n",
      " Step 2 \n",
      " In a large bowl, mix together spinach, green chile pepper, Cheddar cheese and spinach mixture. Pour mixture over chicken and serve. \n",
      " \n",
      "\n",
      " I made this last night for a family gathering and it was a big hit with everyone. I added some shredded Cheddar cheese and some shredded Cheddar cheese and it was a big hit! _rat 4 _end\n"
     ]
    }
   ],
   "source": [
    "text, recipe_finished = generate_recipe(text.split(\"_rev\")[0] + \"_rev\")\n",
    "a,b = text.split(\"_rev\")\n",
    "print(a)\n",
    "print(\"\")\n",
    "print(b)"
   ]
  },
  {
   "cell_type": "code",
   "execution_count": 75,
   "metadata": {},
   "outputs": [
    {
     "data": {
      "text/plain": [
       "{'title': ' Chicken Casserole I ',\n",
       " 'ingredients': ['2 (10.75 ounce) cans condensed cream of chicken soup',\n",
       "  '2 (10.75 ounce) cans condensed cream of mushroom soup',\n",
       "  '1 (8 ounce) package frozen whipped topping, thawed',\n",
       "  '1 (8 ounce) package frozen whipped topping, thawed',\n",
       "  '1 (8 ounce) package frozen chopped spinach, thawed',\n",
       "  '1 (4 ounce) can sliced green chile peppers, with juice',\n",
       "  '1 (16 ounce) package shredded Cheddar cheese'],\n",
       " 'instructions': ['In a large skillet over medium heat, combine soup, mushroom soup, whipped topping and frozen spinach. Cook until spinach is tender, about 10 minutes. Drain and set aside. ',\n",
       "  'In a large bowl, mix together spinach, green chile pepper, Cheddar cheese and spinach mixture. Pour mixture over chicken and serve.'],\n",
       " 'reviews': [' I made this recipe for a party and everyone raved about how it was delicious and easy to make. I used a can of cream of chicken soup and a can of cream of mushroom and it was a hit. I also added some shredded cheddar cheese and some diced onion and it was great. I served it with a side of shredded cheese and a little salsa. '],\n",
       " 'ratings': [5]}"
      ]
     },
     "execution_count": 75,
     "metadata": {},
     "output_type": "execute_result"
    }
   ],
   "source": [
    "recipe = recipe_to_dict(text)\n",
    "recipe"
   ]
  },
  {
   "cell_type": "code",
   "execution_count": null,
   "metadata": {},
   "outputs": [],
   "source": []
  },
  {
   "cell_type": "code",
   "execution_count": 64,
   "metadata": {},
   "outputs": [
    {
     "data": {
      "text/plain": [
       "'_title\":\"Grandma Tanya\\'s Chocolate Chip Cookies _cat \\n Desserts \\n Cookies \\n Drop Cookies \\n Chocolate Chip Cookies _ing \\n 1 cup butter \\n 1 cup white sugar \\n ½ cup packed brown sugar \\n ½ cup butter, softened \\n 1 teaspoon vanilla extract \\n 1 cup all-purpose flour \\n 1 teaspoon baking soda \\n 1 cup semisweet chocolate chips \\n 2 eggs \\n 1\\u2009⅓ cups confectioners\\' sugar \\n 2 teaspoons vanilla extract \\n 1 cup semisweet chocolate chips _ins Step 1 \\n Preheat oven to 325 degrees F (165 degrees C). Grease cookie sheets. \\n Step 2 \\n Cream the butter or margarine and white sugar. Add the brown sugar and butter. Mix in the vanilla and flour. Stir in the chocolate chips, eggs, confectioners\\' sugar and vanilla until smooth. Drop by rounded teaspoons on cookie sheets. \\n Step 3 \\n Bake for 8 to 10 minutes. Cool on wire racks. \\n Step 4 \\n In a large bowl, beat the chocolate chips and eggs together. Stir in the confectioners\\' sugar and vanilla until smooth. Spread evenly over cookies. \\n _rev'"
      ]
     },
     "execution_count": 64,
     "metadata": {},
     "output_type": "execute_result"
    }
   ],
   "source": []
  },
  {
   "cell_type": "code",
   "execution_count": 57,
   "metadata": {},
   "outputs": [
    {
     "data": {
      "text/plain": [
       "[{'title': 'le ',\n",
       "  'ingredients': ['2 cups all-purpose flour',\n",
       "   '½ teaspoon baking powder',\n",
       "   '¾ teaspoon salt',\n",
       "   '½ cup white sugar',\n",
       "   '1 egg',\n",
       "   '2 cups rolled oats',\n",
       "   '1 cup butter, melted',\n",
       "   \"1\\u2009½ cups confectioners' sugar\"],\n",
       "  'instructions': ['Preheat oven to 350 degrees F (175 degrees C). ',\n",
       "   'In a medium bowl, mix together flour, baking powder and salt. Cut in the white sugar. Stir in eggs one at a time until blended. Stir in the rolled oats. ',\n",
       "   'Drop dough by teaspoonfuls onto ungreased baking sheets. Bake for 8 minutes in the preheated oven. Remove to wire racks to cool completely.'],\n",
       "  'reviews': [' My family and I love these cookies. They are so easy to make. I used 1 cup of flour and 2/3 cup of confectioners sugar. The dough was very soft. I did not have to add any flour. I also added 2 cups of milk to make it more moist. I also used 1/4 cup butter instead of the 2 cups of butter. '],\n",
       "  'ratings': [5]},\n",
       " {'title': 'le-21-11-19 ',\n",
       "  'ingredients': ['2 (10.75 ounce) cans condensed cream of mushroom soup',\n",
       "   '½ cup butter',\n",
       "   '½ cup white sugar',\n",
       "   '1 tablespoon ground black pepper',\n",
       "   '1 (15 ounce) can chicken broth',\n",
       "   '2 tablespoons all-purpose flour',\n",
       "   '1 teaspoon ground cumin',\n",
       "   '1 teaspoon ground coriander',\n",
       "   '1 teaspoon ground cayenne pepper',\n",
       "   '1 teaspoon salt',\n",
       "   '1 teaspoon dried oregano',\n",
       "   '½ teaspoon ground cumin',\n",
       "   '1 teaspoon ground cloves',\n",
       "   '1 teaspoon ground coriander',\n",
       "   '1 teaspoon ground cloves',\n",
       "   '1 teaspoon ground cinnamon'],\n",
       "  'instructions': [\"In a medium saucepan over medium heat, combine soup, butter, sugar, pepper, broth, flour and cumin. Bring to a boil and reduce heat, cover and simmer for 1 1/2 hours or until soup is thick and sauce is thickened and bubbly (see Cook's Note). \",\n",
       "   'Remove from heat and add oregano, cumin, cloves, coriander and cloves. Simmer for 30 minutes, stirring occasionally. ',\n",
       "   'Remove from heat and stir in cinnamon, cayenne pepper, salt and oregano. Cook for 2 to 3 minutes, stirring frequently. Remove from heat and stir in coriander, cloves, cinnamon and cloves. Simmer for 1 1/2 hours or until thickened and bubbly.'],\n",
       "  'reviews': [' This is a great recipe! I used 1 can cream of mushroom soup and 1 cup butter. It was a little bland. I also added 1/2 c. of garlic powder and 1 tsp. of cumin. I also added a little more cayenne than the recipe called for. '],\n",
       "  'ratings': [4]},\n",
       " {'title': 'le = ',\n",
       "  'ingredients': ['1\\u2009½ pounds ground beef',\n",
       "   '1 onion, diced',\n",
       "   '1 cup chopped celery',\n",
       "   '1 cup chopped green bell pepper',\n",
       "   '2 tablespoons minced garlic',\n",
       "   '3 tablespoons butter',\n",
       "   '1 cup milk',\n",
       "   '2 teaspoons salt',\n",
       "   '½ cup white sugar',\n",
       "   '1 tablespoon all-purpose flour'],\n",
       "  'instructions': ['Preheat the oven to 325 degrees F (165 degrees C). ',\n",
       "   'Cook the beef according to package directions. In a large skillet, saute the onion and celery until tender. Stir in the green pepper and garlic. Cook and stir for 2 minutes, until onions are tender. ',\n",
       "   'In a large mixing bowl, combine the butter, milk and salt; blend well. ',\n",
       "   'Pour the beef mixture into a large, deep skillet and brown over medium high heat, stirring frequently. Add the sugar and flour and heat until thick and bubbly, about 10 minutes. ',\n",
       "   'Stir in the remaining beef mixture and cook until thick and bubbly and browned on all sides. Serve hot.'],\n",
       "  'reviews': [' I used this recipe as a base for the recipe for my husband and I to use up leftover beef from our Thanksgiving dinner. I used the leftover ground beef from our Thanksgiving dinner and used it for the sauce. The sauce was great. I will definitely make this recipe again and again. '],\n",
       "  'ratings': [5]},\n",
       " {'title': 'le ',\n",
       "  'ingredients': ['1 cup butter',\n",
       "   '1 cup white sugar',\n",
       "   '1 cup all-purpose flour',\n",
       "   '1 teaspoon baking soda',\n",
       "   '2 cups all-purpose flour',\n",
       "   '1 teaspoon salt',\n",
       "   '1 teaspoon ground cinnamon',\n",
       "   '1 teaspoon ground cloves',\n",
       "   '1 cup milk',\n",
       "   '1 teaspoon ground nutmeg',\n",
       "   '1 teaspoon ground allspice',\n",
       "   '1 tablespoon ground allspice',\n",
       "   '1 tablespoon ground cloves',\n",
       "   '1 tablespoon butter',\n",
       "   '2 eggs',\n",
       "   '1 cup chopped walnuts',\n",
       "   '1 cup chopped pecans',\n",
       "   '1 cup raisins',\n",
       "   '2 cups raisins',\n",
       "   '2 tablespoons chopped fresh parsley',\n",
       "   '1 cup chopped walnuts',\n",
       "   '1 cup chopped walnuts',\n",
       "   '1 cup chopped walnuts'],\n",
       "  'instructions': ['In a large bowl, cream together butter, sugar and flour until light and fluffy. Stir in the baking soda, all-purpose flour, baking soda and salt. Mix in the milk, nutmeg, allspice and cloves. Beat on low speed until combined. ',\n",
       "   'In a large mixing bowl, beat together the eggs, walnuts, pecans, raisins and parsley. Mix in the walnuts, walnuts and pecans. Mix well and form into walnut halves. Sprinkle evenly over the top of the walnut halves. ',\n",
       "   'Bake in the preheated oven for 30 to 35 minutes, or until the top is golden brown.'],\n",
       "  'reviews': [' I made this last night for the first time and it was a big hit! The only change I made was I used 1/4 cup of butter instead of 1 cup of sugar. I used 1/4 cup butter instead of 1 cup of sugar. I also used 1/2 cup of butter and 1/2 cup of sugar instead of 1/2. It was a big hit with everyone! '],\n",
       "  'ratings': [5]},\n",
       " {'title': 'le ',\n",
       "  'ingredients': ['2 (3.9 ounce) packages orange liqueur',\n",
       "   '2 (6 ounce) packages instant vanilla pudding mix',\n",
       "   '2 cups cold water',\n",
       "   '1\\u2009½ cups ice water',\n",
       "   '2 (8 ounce) packages instant vanilla pudding mix'],\n",
       "  'instructions': ['In a large bowl, combine orange liqueur, instant vanilla pudding mix, and water. Mix well and pour into glasses.'],\n",
       "  'reviews': [' This was very good! I made a few modifications. I used a can of frozen lemonade instead of frozen and used 1 cup of water. I used 1 cup of water and 1/2 cup of ice water. I also used a can of frozen whipped cream instead of the instant pudding mix. I also added a little bit of vanilla and a bit of sugar. I think this would make a great gift for friends and family. Thanks for a great recipe. '],\n",
       "  'ratings': [5]},\n",
       " {'title': 'le ',\n",
       "  'ingredients': ['1\\u2009½ cups all-purpose flour',\n",
       "   '1 teaspoon salt',\n",
       "   '2 teaspoons baking powder',\n",
       "   '1 teaspoon baking soda',\n",
       "   '½ teaspoon salt',\n",
       "   '1 cup shortening',\n",
       "   '2 eggs',\n",
       "   '2 cups milk',\n",
       "   '1 cup butter',\n",
       "   '1 cup white sugar',\n",
       "   '2 cups chopped walnuts'],\n",
       "  'instructions': ['Preheat oven to 350 degrees F (175 degrees C). ',\n",
       "   'In a medium bowl, cream together the shortening and eggs. Stir in the flour, baking powder, baking soda and salt. Sift together the flour mixture, shortening, eggs, milk and butter; stir into flour mixture until just blended. Stir in nuts. Drop by teaspoonfuls onto ungreased cookie sheets. ',\n",
       "   'Bake for 8 to 10 minutes in the preheated oven, until lightly browned. Cool on wire racks.'],\n",
       "  'reviews': [' This is a very good cookie. I used a whole wheat flour and used a 1 1/2 tsp baking powder and 1/4 tsp baking powder. I also added 1/2 tsp salt. It is very easy to make. '],\n",
       "  'ratings': [4]},\n",
       " {'title': 'le = \"A Simple and Easy Chocolate Cake ',\n",
       "  'ingredients': ['1\\u2009½ cups all-purpose flour',\n",
       "   '1\\u2009½ teaspoons baking powder',\n",
       "   '1\\u2009½ teaspoons salt',\n",
       "   '1 teaspoon ground cinnamon',\n",
       "   '1 cup white sugar',\n",
       "   '2 eggs',\n",
       "   '1 cup milk',\n",
       "   '1 cup semisweet chocolate chips',\n",
       "   '½ cup butter',\n",
       "   '½ cup chopped walnuts',\n",
       "   \"¼ cup confectioners' sugar\",\n",
       "   '½ teaspoon vanilla extract',\n",
       "   \"½ cup confectioners' sugar\"],\n",
       "  'instructions': [\"Preheat oven to 350 degrees F (175 degrees C). Grease and flour a 9x13 inch pan. In a large bowl, mix together the flour and baking powder. Set aside. In a separate bowl, cream together the white sugar, eggs and milk until light and fluffy. Add the flour mixture alternately with flour mixture alternately with butter, mixing well after each addition. Stir in the chocolate chips, 1/2 cup of the confectioner's sugar, and vanilla until well blended. Spread the batter evenly into prepared pan. \",\n",
       "   'Bake for 35 to 40 minutes in the preheated oven, or until a toothpick inserted into the center of the cake comes out clean. Let cool in pan for 5 minutes, then turn out onto a wire rack. Allow to cool completely. ',\n",
       "   \"To Make Filling: In a large bowl, beat together the butter, confectioners' sugar, and vanilla until smooth. Stir in the confectioners' sugar until just blended. Spread evenly into the prepared pan.\"],\n",
       "  'reviews': [\" I made this cake for my son's birthday party last year. It turned out great. The cake was a bit dry and I used a bit more flour than called for and the cake was still very moist. The icing was very sweet and I didn't have any nuts on hand so I used walnuts instead. The icing was very moist and I will definitely make again. \"],\n",
       "  'ratings': [4]},\n",
       " {'title': 'le ',\n",
       "  'ingredients': ['1 pound ground beef',\n",
       "   '2 cloves garlic, minced',\n",
       "   '2 tablespoons olive oil',\n",
       "   '2 tablespoons dried oregano',\n",
       "   '½ teaspoon ground cumin',\n",
       "   '1 teaspoon salt',\n",
       "   '1 tablespoon chopped black pepper',\n",
       "   '2 tablespoons chopped fresh cilantro',\n",
       "   '½ teaspoon ground black pepper'],\n",
       "  'instructions': ['Preheat grill for medium-high heat. Lightly oil grate. ',\n",
       "   'Combine ground beef, garlic, olive oil, oregano, cumin, salt, pepper, and cilantro in a large bowl. Mix well. ',\n",
       "   'Place meat mixture in a large resealable plastic bag. Place bag in preheated oven. Cook for 1 to 2 minutes on each side, or until meat is no longer pink and juices run clear.'],\n",
       "  'reviews': [' I used ground beef instead of ground beef and added 1/2 c cayenne pepper to the meat. I used 1/2 c cayenne pepper and 1/2 c garlic. I also used fresh basil and 1/2 c cumin. I also used a can of diced tomatoes and a can of diced red bell pepper. I served with the chili. I also used a can of diced red bell pepper and a can of diced red bell pepper. I served it with a can of diced green chile peppers. '],\n",
       "  'ratings': [4]},\n",
       " {'title': 'le \"The Art of the Chessboard Chessboard\" ',\n",
       "  'ingredients': ['1 cup milk',\n",
       "   '1 cup white sugar',\n",
       "   '1 cup all-purpose flour',\n",
       "   '1 teaspoon ground nutmeg',\n",
       "   '1 teaspoon salt',\n",
       "   '1 egg, beaten',\n",
       "   '1 cup white sugar',\n",
       "   '1 teaspoon ground cinnamon',\n",
       "   '1 teaspoon ground nutmeg',\n",
       "   '1 teaspoon ground ginger',\n",
       "   '½ teaspoon ground cloves',\n",
       "   '2 tablespoons butter, softened',\n",
       "   '1 (16 ounce) can crushed pineapple with juice',\n",
       "   '1 cup white sugar',\n",
       "   '1 tablespoon ground cinnamon'],\n",
       "  'instructions': ['Place milk and sugar in a saucepan over medium heat. Bring to a boil, and cook until sugar is dissolved, about 10 minutes. Stir in flour, nutmeg, salt, egg, and 1 cup white sugar. Cook, stirring constantly, until thickened, about 1 minute. Remove from heat. ',\n",
       "   'Stir in 1 cup white sugar and cinnamon. Cook, stirring constantly, until mixture is thickened. Stir in crushed pineapple with juice and 1 cup white sugar. Stir in 1 cup white sugar and 1 tablespoon of cinnamon. Reduce heat, cover, and simmer until thickened. Stir in 1 cup white sugar and 1 tablespoon of cinnamon. ',\n",
       "   'Remove from heat, and serve hot.'],\n",
       "  'reviews': [\" I made this for a family dinner. It was very tasty! I did make a few changes. I used 1 cup white sugar instead of 1 cup white sugar and I used 1 cup of crushed pineapple instead of 1 cup white sugar. It was a little too sweet for my taste. I also added 1/2 cup sugar and 1/3 cup of ground cinnamon. I think it's best if you use the whole thing. It was very good. \"],\n",
       "  'ratings': [5]},\n",
       " {'title': 'le ',\n",
       "  'ingredients': ['1 (3 ounce) can crushed ice',\n",
       "   '1 (8 ounce) can crushed pineapple with juice',\n",
       "   '2 (8 ounce) cans mandarin oranges, drained',\n",
       "   '1 (8 ounce) can pineapple juice concentrate'],\n",
       "  'instructions': ['Pour crushed ice into a large punchbowl, and pour pineapple juice concentrate over the ice. Chill for at least one hour. Pour into a cocktail glass.'],\n",
       "  'reviews': [\" I made this recipe for a party and I was a bit nervous. I didn't have any mandarin oranges so I added 1 1/2 cans pineapple juice concentrate. It was delicious and it was a big hit. I also used pineapple with a little less pineapple juice concentrate and a bit more mandarin oranges. I will definately make again! Thanks! \"],\n",
       "  'ratings': [5]},\n",
       " {'title': 'le\\n\\nHalloween Specials ',\n",
       "  'ingredients': ['½ cup butter, softened',\n",
       "   '1 egg',\n",
       "   '½ cup white sugar',\n",
       "   '1\\u2009¼ cups all-purpose flour',\n",
       "   '1 teaspoon baking powder',\n",
       "   '1 teaspoon salt',\n",
       "   '½ cup butter, softened',\n",
       "   '1 teaspoon vanilla extract',\n",
       "   '½ cup chopped walnuts',\n",
       "   '½ cup chopped pecans',\n",
       "   '½ cup chopped walnuts',\n",
       "   '½ cup chopped pecans',\n",
       "   '½ cup chopped walnuts',\n",
       "   '1 cup chopped walnuts',\n",
       "   '½ cup chopped walnuts',\n",
       "   '1 cup chopped walnuts',\n",
       "   '1 teaspoon vanilla extract'],\n",
       "  'instructions': ['Preheat oven to 375 degrees F (190 degrees C). ',\n",
       "   'In a medium bowl, cream together the butter, 1 egg and sugar until light and fluffy. Stir in the flour, baking powder and salt. Combine the butter mixture with 1 1/2 cups chopped nuts and 1 teaspoon of walnuts; mix well. Stir in the melted butter mixture and 1 1/2 cups chopped nuts. Drop by rounded spoonfuls 1 inch apart onto ungreased cookie sheets. ',\n",
       "   'Bake for 10 minutes in the preheated oven. Remove from baking sheets to cool on wire racks.'],\n",
       "  'reviews': [\" I made this for a party and everyone loved it. I used a little bit more butter but it worked out well. I also used 1/2 cup chopped pecans and a little less walnuts. I also cut the walnuts in half so I didn't need to cut them in half. It was a great recipe. Thanks so much. \"],\n",
       "  'ratings': [5]},\n",
       " {'title': 'le\":\"Grandma Tanya\\'s Chocolate Chip Cookies ',\n",
       "  'ingredients': ['1 cup butter',\n",
       "   '1 cup white sugar',\n",
       "   '½ cup packed brown sugar',\n",
       "   '½ cup butter, softened',\n",
       "   '1 teaspoon vanilla extract',\n",
       "   '1 cup all-purpose flour',\n",
       "   '1 teaspoon baking soda',\n",
       "   '1 cup semisweet chocolate chips',\n",
       "   '2 eggs',\n",
       "   \"1\\u2009⅓ cups confectioners' sugar\",\n",
       "   '2 teaspoons vanilla extract',\n",
       "   '1 cup semisweet chocolate chips'],\n",
       "  'instructions': ['Preheat oven to 325 degrees F (165 degrees C). Grease cookie sheets. ',\n",
       "   \"Cream the butter or margarine and white sugar. Add the brown sugar and butter. Mix in the vanilla and flour. Stir in the chocolate chips, eggs, confectioners' sugar and vanilla until smooth. Drop by rounded teaspoons on cookie sheets. \",\n",
       "   'Bake for 8 to 10 minutes. Cool on wire racks. ',\n",
       "   \"In a large bowl, beat the chocolate chips and eggs together. Stir in the confectioners' sugar and vanilla until smooth. Spread evenly over cookies.\"],\n",
       "  'reviews': [' This was really good. I made a few changes to make them even better. I used 1 cup of brown sugar instead of 2 1/2 cups of white sugar and 1 cup of brown sugar instead of 1 1/2 cup of butter. I also used 1/2 cup of chocolate chips. I also used 1 1/2 cups of semisweet chips instead of 1 cup of white. It made them even better and they were still soft and chewy. '],\n",
       "  'ratings': [5]}]"
      ]
     },
     "execution_count": 57,
     "metadata": {},
     "output_type": "execute_result"
    }
   ],
   "source": [
    "recipes[]"
   ]
  },
  {
   "cell_type": "code",
   "execution_count": null,
   "metadata": {},
   "outputs": [],
   "source": []
  },
  {
   "cell_type": "code",
   "execution_count": null,
   "metadata": {},
   "outputs": [],
   "source": []
  },
  {
   "cell_type": "code",
   "execution_count": null,
   "metadata": {},
   "outputs": [],
   "source": []
  },
  {
   "cell_type": "code",
   "execution_count": null,
   "metadata": {},
   "outputs": [],
   "source": []
  },
  {
   "cell_type": "code",
   "execution_count": null,
   "metadata": {},
   "outputs": [],
   "source": []
  },
  {
   "cell_type": "code",
   "execution_count": null,
   "metadata": {},
   "outputs": [],
   "source": []
  },
  {
   "cell_type": "code",
   "execution_count": null,
   "metadata": {},
   "outputs": [],
   "source": []
  },
  {
   "cell_type": "code",
   "execution_count": null,
   "metadata": {},
   "outputs": [],
   "source": []
  },
  {
   "cell_type": "code",
   "execution_count": null,
   "metadata": {},
   "outputs": [],
   "source": []
  },
  {
   "cell_type": "code",
   "execution_count": null,
   "metadata": {},
   "outputs": [],
   "source": []
  },
  {
   "cell_type": "code",
   "execution_count": null,
   "metadata": {},
   "outputs": [],
   "source": [
    "## Let's make some freaking apple pi!"
   ]
  },
  {
   "cell_type": "code",
   "execution_count": null,
   "metadata": {},
   "outputs": [],
   "source": [
    "# recipe, primer = complete_recipe_generator(\"Apple pie\", \n",
    "#                           [\"Desserts\", \"Pies\", \"Apple Pie\"], \n",
    "#                           [])\n",
    "# recipe"
   ]
  },
  {
   "cell_type": "code",
   "execution_count": 49,
   "metadata": {},
   "outputs": [],
   "source": [
    "# recipe, primer = complete_recipe_generator(\"Apple pie\", \n",
    "#                           [\"Desserts\", \"Pies\", \"Apple Pie\"], \n",
    "#                           ['1 cup all-purpose flour',\n",
    "#                           '1 ½ teaspoons salt',\n",
    "#                           '1 cup white sugar',\n",
    "#                           '½ cup butter',\n",
    "#                           '1 egg',\n",
    "#                           '1 ½ teaspoons vanilla extract',\n",
    "#                           '1 teaspoon ground cinnamon',\n",
    "#                           '1 cup chopped pecans'],\n",
    "#                           [\"If you wish to make apple pie from scratch, you must first\"])"
   ]
  },
  {
   "cell_type": "code",
   "execution_count": 56,
   "metadata": {},
   "outputs": [],
   "source": [
    "# recipe, primer = complete_recipe_generator(\"Space cake _cat\")\n",
    "# recipe"
   ]
  },
  {
   "cell_type": "code",
   "execution_count": 59,
   "metadata": {},
   "outputs": [],
   "source": [
    "# recipe, primer = complete_recipe_generator(\"Cream pie _cat\")\n",
    "# recipe"
   ]
  },
  {
   "cell_type": "code",
   "execution_count": 62,
   "metadata": {},
   "outputs": [],
   "source": [
    "# recipe, primer = complete_recipe_generator(\"Dead rat _cat\")\n",
    "# recipe"
   ]
  },
  {
   "cell_type": "code",
   "execution_count": 65,
   "metadata": {},
   "outputs": [],
   "source": [
    "# recipe, primer = complete_recipe_generator(\"Guinea pig _cat\")\n",
    "# recipe"
   ]
  },
  {
   "cell_type": "code",
   "execution_count": 64,
   "metadata": {},
   "outputs": [],
   "source": [
    "safe_file = 'recipes_custom.json'\n",
    "\n",
    "try:\n",
    "    with open(safe_file, 'r') as file:\n",
    "        recipes = json.load(file)\n",
    "except:\n",
    "    recipes = []\n",
    "\n",
    "\n",
    "# Add recipe to list\n",
    "recipe[\"id\"]=f\"{int(time.time())}-C\"\n",
    "recipes.append(recipe)\n",
    "\n",
    "# Save all recipes\n",
    "with open(safe_file, 'w') as file:\n",
    "    file.write(json.dumps(recipes, sort_keys=True, indent=4, separators=(',', ': ')))"
   ]
  },
  {
   "cell_type": "code",
   "execution_count": null,
   "metadata": {},
   "outputs": [],
   "source": []
  },
  {
   "cell_type": "code",
   "execution_count": null,
   "metadata": {},
   "outputs": [],
   "source": []
  },
  {
   "cell_type": "code",
   "execution_count": null,
   "metadata": {},
   "outputs": [],
   "source": []
  },
  {
   "cell_type": "code",
   "execution_count": null,
   "metadata": {},
   "outputs": [],
   "source": []
  },
  {
   "cell_type": "code",
   "execution_count": null,
   "metadata": {},
   "outputs": [],
   "source": []
  },
  {
   "cell_type": "code",
   "execution_count": null,
   "metadata": {},
   "outputs": [],
   "source": []
  },
  {
   "cell_type": "code",
   "execution_count": 3,
   "metadata": {},
   "outputs": [],
   "source": [
    "encoded = tokenizer.encode(\"Preheat oven to 325 degrees F (165 degrees C). Lightly grease cookie\")"
   ]
  },
  {
   "cell_type": "code",
   "execution_count": 12,
   "metadata": {},
   "outputs": [
    {
     "data": {
      "text/plain": [
       "[15747, 13]"
      ]
     },
     "execution_count": 12,
     "metadata": {},
     "output_type": "execute_result"
    }
   ],
   "source": [
    "to_predict = tokenizer.encode(\" sheets.\")\n",
    "to_predict"
   ]
  },
  {
   "cell_type": "code",
   "execution_count": 4,
   "metadata": {},
   "outputs": [
    {
     "data": {
      "text/plain": [
       "[6719,\n",
       " 25080,\n",
       " 14361,\n",
       " 284,\n",
       " 29524,\n",
       " 7370,\n",
       " 376,\n",
       " 357,\n",
       " 20986,\n",
       " 7370,\n",
       " 327,\n",
       " 737,\n",
       " 4401,\n",
       " 306,\n",
       " 35537,\n",
       " 19751]"
      ]
     },
     "execution_count": 4,
     "metadata": {},
     "output_type": "execute_result"
    }
   ],
   "source": [
    "encoded"
   ]
  },
  {
   "cell_type": "code",
   "execution_count": 15,
   "metadata": {},
   "outputs": [],
   "source": [
    "dictionary  = tokenizer.get_vocab()"
   ]
  },
  {
   "cell_type": "code",
   "execution_count": 16,
   "metadata": {},
   "outputs": [],
   "source": [
    "inverse_dictionary = {}\n",
    "for key in dictionary:\n",
    "    value = dictionary[key]\n",
    "    inverse_dictionary[value]=key"
   ]
  },
  {
   "cell_type": "code",
   "execution_count": 11,
   "metadata": {},
   "outputs": [
    {
     "name": "stdout",
     "output_type": "stream",
     "text": [
      "Pre 6719\n",
      "heat 25080\n",
      "Ġoven 14361\n",
      "Ġto 284\n",
      "Ġ325 29524\n",
      "Ġdegrees 7370\n",
      "ĠF 376\n",
      "Ġ( 357\n",
      "165 20986\n",
      "Ġdegrees 7370\n",
      "ĠC 327\n",
      "). 737\n",
      "ĠLight 4401\n",
      "ly 306\n",
      "Ġgrease 35537\n",
      "Ġcookie 19751\n"
     ]
    }
   ],
   "source": [
    "for code in encoded:\n",
    "    print(inverse_dictionary[code], code)"
   ]
  },
  {
   "cell_type": "code",
   "execution_count": 13,
   "metadata": {},
   "outputs": [
    {
     "data": {
      "text/plain": [
       "'6719, 25080, 14361, 284, 29524, 7370, 376, 357, 20986, 7370, 327, 737, 4401, 306, 35537, 19751, -> 15747'"
      ]
     },
     "execution_count": 13,
     "metadata": {},
     "output_type": "execute_result"
    }
   ],
   "source": [
    "to_do = \"\"\n",
    "for code in encoded:\n",
    "    to_do+=f\"{code}, \"\n",
    "to_do+=f\"-> {to_predict[0]}\"\n",
    "to_do"
   ]
  },
  {
   "cell_type": "code",
   "execution_count": 17,
   "metadata": {},
   "outputs": [],
   "source": [
    "cur_ids = torch.tensor(encoded).unsqueeze(0).to(device)"
   ]
  },
  {
   "cell_type": "code",
   "execution_count": 18,
   "metadata": {},
   "outputs": [
    {
     "data": {
      "text/plain": [
       "tensor([[ 6719, 25080, 14361,   284, 29524,  7370,   376,   357, 20986,  7370,\n",
       "           327,   737,  4401,   306, 35537, 19751]], device='cuda:0')"
      ]
     },
     "execution_count": 18,
     "metadata": {},
     "output_type": "execute_result"
    }
   ],
   "source": [
    "cur_ids"
   ]
  },
  {
   "cell_type": "code",
   "execution_count": 32,
   "metadata": {},
   "outputs": [],
   "source": [
    "with torch.no_grad():\n",
    "    outputs = model(cur_ids, labels=cur_ids)\n",
    "    loss, logits = outputs[:2]\n",
    "    softmax_logits = torch.softmax(logits[0,-1], dim=0) \n",
    "    output = softmax_logits.to('cpu').numpy()"
   ]
  },
  {
   "cell_type": "code",
   "execution_count": 38,
   "metadata": {},
   "outputs": [
    {
     "data": {
      "image/png": "[encoded data removed]",
      "text/plain": [
       "<Figure size 432x288 with 1 Axes>"
      ]
     },
     "metadata": {
      "needs_background": "light"
     },
     "output_type": "display_data"
    }
   ],
   "source": [
    "_ = plt.hist(output,bins=100)"
   ]
  },
  {
   "cell_type": "code",
   "execution_count": 41,
   "metadata": {},
   "outputs": [],
   "source": [
    "possibilities = (output > 0.01)"
   ]
  },
  {
   "cell_type": "code",
   "execution_count": 42,
   "metadata": {},
   "outputs": [
    {
     "data": {
      "text/plain": [
       "array([[ 9629],\n",
       "       [15747]], dtype=int64)"
      ]
     },
     "execution_count": 42,
     "metadata": {},
     "output_type": "execute_result"
    }
   ],
   "source": [
    "np.argwhere(output > 0.01)"
   ]
  },
  {
   "cell_type": "code",
   "execution_count": 34,
   "metadata": {},
   "outputs": [],
   "source": [
    "from matplotlib import pyplot as plt"
   ]
  },
  {
   "cell_type": "code",
   "execution_count": 46,
   "metadata": {},
   "outputs": [
    {
     "data": {
      "text/plain": [
       "'Ġsheets'"
      ]
     },
     "execution_count": 46,
     "metadata": {},
     "output_type": "execute_result"
    }
   ],
   "source": [
    "inverse_dictionary[15747]"
   ]
  },
  {
   "cell_type": "code",
   "execution_count": 47,
   "metadata": {},
   "outputs": [
    {
     "data": {
      "text/plain": [
       "'Ġsheet'"
      ]
     },
     "execution_count": 47,
     "metadata": {},
     "output_type": "execute_result"
    }
   ],
   "source": [
    "inverse_dictionary[9629]"
   ]
  },
  {
   "cell_type": "code",
   "execution_count": 48,
   "metadata": {},
   "outputs": [
    {
     "data": {
      "text/plain": [
       "(array([ 9629, 15747], dtype=int64),)"
      ]
     },
     "execution_count": 48,
     "metadata": {},
     "output_type": "execute_result"
    }
   ],
   "source": [
    "np.where(output > 0.01)"
   ]
  },
  {
   "cell_type": "code",
   "execution_count": 49,
   "metadata": {},
   "outputs": [
    {
     "data": {
      "text/plain": [
       "0.9185744"
      ]
     },
     "execution_count": 49,
     "metadata": {},
     "output_type": "execute_result"
    }
   ],
   "source": [
    "output[15747]"
   ]
  },
  {
   "cell_type": "code",
   "execution_count": 50,
   "metadata": {},
   "outputs": [
    {
     "data": {
      "text/plain": [
       "0.076905936"
      ]
     },
     "execution_count": 50,
     "metadata": {},
     "output_type": "execute_result"
    }
   ],
   "source": [
    "output[9629]"
   ]
  },
  {
   "cell_type": "code",
   "execution_count": null,
   "metadata": {},
   "outputs": [],
   "source": []
  },
  {
   "cell_type": "code",
   "execution_count": null,
   "metadata": {},
   "outputs": [],
   "source": []
  },
  {
   "cell_type": "code",
   "execution_count": null,
   "metadata": {},
   "outputs": [],
   "source": []
  },
  {
   "cell_type": "code",
   "execution_count": null,
   "metadata": {},
   "outputs": [],
   "source": []
  },
  {
   "cell_type": "code",
   "execution_count": null,
   "metadata": {},
   "outputs": [],
   "source": []
  },
  {
   "cell_type": "code",
   "execution_count": null,
   "metadata": {},
   "outputs": [],
   "source": []
  },
  {
   "cell_type": "code",
   "execution_count": null,
   "metadata": {},
   "outputs": [],
   "source": []
  },
  {
   "cell_type": "code",
   "execution_count": null,
   "metadata": {},
   "outputs": [],
   "source": []
  },
  {
   "cell_type": "code",
   "execution_count": 22,
   "metadata": {},
   "outputs": [],
   "source": [
    "from transformers import GPT2LMHeadModel\n",
    "\n",
    "model = GPT2LMHeadModel.from_pretrained('gpt2') \n",
    "word_embeddings = model.transformer.wte.weight \n",
    "# position_embeddings = model.transformer.wpe.weight "
   ]
  },
  {
   "cell_type": "code",
   "execution_count": 52,
   "metadata": {},
   "outputs": [
    {
     "data": {
      "text/plain": [
       "Parameter containing:\n",
       "tensor([[-0.1101, -0.0393,  0.0331,  ..., -0.1364,  0.0151,  0.0453],\n",
       "        [ 0.0403, -0.0486,  0.0462,  ...,  0.0861,  0.0025,  0.0432],\n",
       "        [-0.1275,  0.0479,  0.1841,  ...,  0.0899, -0.1297, -0.0879],\n",
       "        ...,\n",
       "        [-0.0445, -0.0548,  0.0123,  ...,  0.1044,  0.0978, -0.0695],\n",
       "        [ 0.1860,  0.0167,  0.0461,  ..., -0.0963,  0.0785, -0.0225],\n",
       "        [ 0.0514, -0.0277,  0.0499,  ...,  0.0070,  0.1552,  0.1207]],\n",
       "       requires_grad=True)"
      ]
     },
     "execution_count": 52,
     "metadata": {},
     "output_type": "execute_result"
    }
   ],
   "source": [
    "word_embeddings"
   ]
  },
  {
   "cell_type": "code",
   "execution_count": 58,
   "metadata": {},
   "outputs": [],
   "source": [
    "with torch.no_grad():\n",
    "    embedding_matrix = word_embeddings.detach().numpy()"
   ]
  },
  {
   "cell_type": "code",
   "execution_count": 60,
   "metadata": {},
   "outputs": [
    {
     "data": {
      "text/plain": [
       "(50257, 768)"
      ]
     },
     "execution_count": 60,
     "metadata": {},
     "output_type": "execute_result"
    }
   ],
   "source": [
    "embedding_matrix.shape"
   ]
  },
  {
   "cell_type": "code",
   "execution_count": 62,
   "metadata": {},
   "outputs": [],
   "source": [
    "man_token = dictionary[\"man\"]"
   ]
  },
  {
   "cell_type": "code",
   "execution_count": 64,
   "metadata": {},
   "outputs": [],
   "source": [
    "man_vector = embedding_matrix[man_token,:]"
   ]
  },
  {
   "cell_type": "code",
   "execution_count": 65,
   "metadata": {},
   "outputs": [],
   "source": [
    "woman_token = dictionary[\"woman\"]"
   ]
  },
  {
   "cell_type": "code",
   "execution_count": 66,
   "metadata": {},
   "outputs": [],
   "source": [
    "woman_vector = embedding_matrix[woman_token,:]"
   ]
  },
  {
   "cell_type": "code",
   "execution_count": 67,
   "metadata": {},
   "outputs": [],
   "source": [
    "car_token = dictionary[\"car\"]"
   ]
  },
  {
   "cell_type": "code",
   "execution_count": 68,
   "metadata": {},
   "outputs": [],
   "source": [
    "car_vector = embedding_matrix[car_token,:]"
   ]
  },
  {
   "cell_type": "code",
   "execution_count": 79,
   "metadata": {},
   "outputs": [
    {
     "data": {
      "text/plain": [
       "<matplotlib.legend.Legend at 0x18a7a76a688>"
      ]
     },
     "execution_count": 79,
     "metadata": {},
     "output_type": "execute_result"
    },
    {
     "data": {
      "image/png": "[encoded data removed]",
      "text/plain": [
       "<Figure size 1008x432 with 1 Axes>"
      ]
     },
     "metadata": {
      "needs_background": "light"
     },
     "output_type": "display_data"
    }
   ],
   "source": [
    "plt.figure(figsize=(14,6))\n",
    "plt.plot(man_vector[:10], '.')\n",
    "plt.plot(woman_vector[:10], '.')\n",
    "plt.plot(car_vector[:10], '.')\n",
    "plt.legend([\"man\",\"woman\",\"car\"])"
   ]
  },
  {
   "cell_type": "code",
   "execution_count": 147,
   "metadata": {},
   "outputs": [],
   "source": [
    "king_token = dictionary[\"king\"]"
   ]
  },
  {
   "cell_type": "code",
   "execution_count": 148,
   "metadata": {},
   "outputs": [],
   "source": [
    "king_vector = embedding_matrix[king_token,:]"
   ]
  },
  {
   "cell_type": "code",
   "execution_count": 149,
   "metadata": {},
   "outputs": [],
   "source": [
    "maybe_queen_vector = king_vector - man_vector + woman_vector"
   ]
  },
  {
   "cell_type": "code",
   "execution_count": 150,
   "metadata": {},
   "outputs": [],
   "source": [
    "maybe_queen_difference_matrix = embedding_matrix - maybe_queen_vector[np.newaxis,:]"
   ]
  },
  {
   "cell_type": "code",
   "execution_count": 151,
   "metadata": {},
   "outputs": [],
   "source": [
    "maybe_queen_differences = np.sum(np.abs(maybe_queen_difference_matrix),axis=1)"
   ]
  },
  {
   "cell_type": "code",
   "execution_count": 152,
   "metadata": {
    "scrolled": true
   },
   "outputs": [],
   "source": [
    "maybe_queen_indices, maybe_queen_values = np.argsort(maybe_queen_differences, ), np.sort(maybe_queen_differences)"
   ]
  },
  {
   "cell_type": "code",
   "execution_count": 153,
   "metadata": {},
   "outputs": [
    {
     "data": {
      "text/plain": [
       "['woman', 'ked', 'KING', 'women', 'King', 'Lady', 'ĝ', 'ă', 'é¾įå¥']"
      ]
     },
     "execution_count": 153,
     "metadata": {},
     "output_type": "execute_result"
    }
   ],
   "source": [
    "[inverse_dictionary[key] for key in maybe_queen_indices[1:10:]]"
   ]
  },
  {
   "cell_type": "code",
   "execution_count": null,
   "metadata": {},
   "outputs": [],
   "source": []
  },
  {
   "cell_type": "code",
   "execution_count": null,
   "metadata": {},
   "outputs": [],
   "source": []
  },
  {
   "cell_type": "code",
   "execution_count": null,
   "metadata": {},
   "outputs": [],
   "source": []
  },
  {
   "cell_type": "code",
   "execution_count": null,
   "metadata": {},
   "outputs": [],
   "source": []
  },
  {
   "cell_type": "code",
   "execution_count": null,
   "metadata": {},
   "outputs": [],
   "source": []
  },
  {
   "cell_type": "code",
   "execution_count": null,
   "metadata": {},
   "outputs": [],
   "source": []
  },
  {
   "cell_type": "code",
   "execution_count": null,
   "metadata": {},
   "outputs": [],
   "source": []
  },
  {
   "cell_type": "code",
   "execution_count": null,
   "metadata": {},
   "outputs": [],
   "source": []
  },
  {
   "cell_type": "code",
   "execution_count": null,
   "metadata": {},
   "outputs": [],
   "source": []
  },
  {
   "cell_type": "code",
   "execution_count": null,
   "metadata": {},
   "outputs": [],
   "source": []
  },
  {
   "cell_type": "code",
   "execution_count": null,
   "metadata": {},
   "outputs": [],
   "source": []
  },
  {
   "cell_type": "code",
   "execution_count": null,
   "metadata": {},
   "outputs": [],
   "source": []
  },
  {
   "cell_type": "code",
   "execution_count": null,
   "metadata": {},
   "outputs": [],
   "source": []
  },
  {
   "cell_type": "code",
   "execution_count": null,
   "metadata": {},
   "outputs": [],
   "source": []
  },
  {
   "cell_type": "code",
   "execution_count": null,
   "metadata": {},
   "outputs": [],
   "source": []
  },
  {
   "cell_type": "code",
   "execution_count": null,
   "metadata": {},
   "outputs": [],
   "source": []
  },
  {
   "cell_type": "code",
   "execution_count": 158,
   "metadata": {},
   "outputs": [
    {
     "data": {
      "text/plain": [
       "['planes',\n",
       " 'Ġplane',\n",
       " 'Ġplanes',\n",
       " 'ĠPlane',\n",
       " 'Ġairplane',\n",
       " 'Ġaircraft',\n",
       " 'Ġairplanes',\n",
       " 'Ġjet',\n",
       " 'ē']"
      ]
     },
     "execution_count": 158,
     "metadata": {},
     "output_type": "execute_result"
    }
   ],
   "source": [
    "probe_token = dictionary[\"plane\"]\n",
    "probe_vector = embedding_matrix[probe_token,:]\n",
    "probe_difference_matrix = embedding_matrix - probe_vector[np.newaxis,:]\n",
    "probe_differences = np.sum(np.abs(probe_difference_matrix),axis=1)\n",
    "probe_indices, probe_values = np.argsort(probe_differences, ), np.sort(probe_differences)\n",
    "[inverse_dictionary[key] for key in probe_indices[1:10:]]"
   ]
  },
  {
   "cell_type": "code",
   "execution_count": 159,
   "metadata": {},
   "outputs": [],
   "source": [
    "def get_closest(probe):\n",
    "    probe_token = dictionary[probe]\n",
    "    probe_vector = embedding_matrix[probe_token,:]\n",
    "    probe_difference_matrix = embedding_matrix - probe_vector[np.newaxis,:]\n",
    "    probe_differences = np.sum(np.abs(probe_difference_matrix),axis=1)\n",
    "    probe_indices, probe_values = np.argsort(probe_differences, ), np.sort(probe_differences)\n",
    "    return [inverse_dictionary[key] for key in probe_indices[1:10:]]"
   ]
  },
  {
   "cell_type": "code",
   "execution_count": 160,
   "metadata": {},
   "outputs": [
    {
     "data": {
      "text/plain": [
       "['planes',\n",
       " 'Ġplane',\n",
       " 'Ġplanes',\n",
       " 'ĠPlane',\n",
       " 'Ġairplane',\n",
       " 'Ġaircraft',\n",
       " 'Ġairplanes',\n",
       " 'Ġjet',\n",
       " 'ē']"
      ]
     },
     "execution_count": 160,
     "metadata": {},
     "output_type": "execute_result"
    }
   ],
   "source": [
    "get_closest(\"plane\")"
   ]
  },
  {
   "cell_type": "code",
   "execution_count": 161,
   "metadata": {},
   "outputs": [
    {
     "data": {
      "text/plain": [
       "['Cat', 'cats', 'Ġcat', 'ĠCat', 'Ġcats', 'c', 'ø', 'ę', 'č']"
      ]
     },
     "execution_count": 161,
     "metadata": {},
     "output_type": "execute_result"
    }
   ],
   "source": [
    "get_closest(\"cat\")"
   ]
  },
  {
   "cell_type": "code",
   "execution_count": 162,
   "metadata": {},
   "outputs": [
    {
     "data": {
      "text/plain": [
       "['dogs', 'Ġdog', 'Dog', 'ĠDog', 'Ġdogs', 'ĠDogs', 'ć', 'Á', 'ú']"
      ]
     },
     "execution_count": 162,
     "metadata": {},
     "output_type": "execute_result"
    }
   ],
   "source": [
    "get_closest(\"dog\")"
   ]
  },
  {
   "cell_type": "code",
   "execution_count": 163,
   "metadata": {},
   "outputs": [
    {
     "data": {
      "text/plain": [
       "['Ġbuilding',\n",
       " 'builders',\n",
       " 'Building',\n",
       " 'ĠBuilding',\n",
       " 'builder',\n",
       " 'build',\n",
       " 'Ġconstructing',\n",
       " 'Ġbuilders',\n",
       " 'Ġbuild']"
      ]
     },
     "execution_count": 163,
     "metadata": {},
     "output_type": "execute_result"
    }
   ],
   "source": [
    "get_closest(\"building\")"
   ]
  },
  {
   "cell_type": "code",
   "execution_count": 164,
   "metadata": {},
   "outputs": [
    {
     "data": {
      "text/plain": [
       "['houses',\n",
       " 'Ġhouse',\n",
       " 'House',\n",
       " 'ĠHouse',\n",
       " 'Ġhouses',\n",
       " 'ĠHOUSE',\n",
       " 'Ġin',\n",
       " 'Ġand',\n",
       " 'Ġwith']"
      ]
     },
     "execution_count": 164,
     "metadata": {},
     "output_type": "execute_result"
    }
   ],
   "source": [
    "get_closest(\"house\")"
   ]
  },
  {
   "cell_type": "code",
   "execution_count": 165,
   "metadata": {},
   "outputs": [
    {
     "data": {
      "text/plain": [
       "['Computer',\n",
       " 'Ġcomputer',\n",
       " 'ĠComputer',\n",
       " 'Ġcomputers',\n",
       " 'Ġcomputational',\n",
       " 'ú',\n",
       " 'Ď',\n",
       " 'ü',\n",
       " 'ď']"
      ]
     },
     "execution_count": 165,
     "metadata": {},
     "output_type": "execute_result"
    }
   ],
   "source": [
    "get_closest(\"computer\")"
   ]
  },
  {
   "cell_type": "code",
   "execution_count": null,
   "metadata": {},
   "outputs": [],
   "source": []
  },
  {
   "cell_type": "code",
   "execution_count": null,
   "metadata": {},
   "outputs": [],
   "source": []
  },
  {
   "cell_type": "code",
   "execution_count": null,
   "metadata": {},
   "outputs": [],
   "source": []
  },
  {
   "cell_type": "code",
   "execution_count": null,
   "metadata": {},
   "outputs": [],
   "source": []
  },
  {
   "cell_type": "code",
   "execution_count": null,
   "metadata": {},
   "outputs": [],
   "source": []
  },
  {
   "cell_type": "code",
   "execution_count": null,
   "metadata": {},
   "outputs": [],
   "source": []
  },
  {
   "cell_type": "code",
   "execution_count": null,
   "metadata": {},
   "outputs": [],
   "source": []
  },
  {
   "cell_type": "code",
   "execution_count": null,
   "metadata": {},
   "outputs": [],
   "source": []
  },
  {
   "cell_type": "code",
   "execution_count": null,
   "metadata": {},
   "outputs": [],
   "source": []
  },
  {
   "cell_type": "code",
   "execution_count": null,
   "metadata": {},
   "outputs": [],
   "source": []
  },
  {
   "cell_type": "code",
   "execution_count": null,
   "metadata": {},
   "outputs": [],
   "source": []
  },
  {
   "cell_type": "code",
   "execution_count": null,
   "metadata": {},
   "outputs": [],
   "source": []
  },
  {
   "cell_type": "code",
   "execution_count": null,
   "metadata": {},
   "outputs": [],
   "source": []
  },
  {
   "cell_type": "code",
   "execution_count": null,
   "metadata": {},
   "outputs": [],
   "source": []
  },
  {
   "cell_type": "code",
   "execution_count": null,
   "metadata": {},
   "outputs": [],
   "source": []
  },
  {
   "cell_type": "code",
   "execution_count": null,
   "metadata": {},
   "outputs": [],
   "source": []
  },
  {
   "cell_type": "code",
   "execution_count": null,
   "metadata": {},
   "outputs": [],
   "source": []
  },
  {
   "cell_type": "code",
   "execution_count": 17,
   "metadata": {},
   "outputs": [
    {
     "data": {
      "text/plain": [
       "50257"
      ]
     },
     "execution_count": 17,
     "metadata": {},
     "output_type": "execute_result"
    }
   ],
   "source": [
    "len(dictionary)"
   ]
  },
  {
   "cell_type": "code",
   "execution_count": 11,
   "metadata": {},
   "outputs": [],
   "source": [
    "sentence = \" \".join([\"hi\" for _ in range(1024)])\n",
    "\n",
    "encoded = tokenizer.encode(sentence)"
   ]
  },
  {
   "cell_type": "code",
   "execution_count": 12,
   "metadata": {},
   "outputs": [],
   "source": [
    "cur_ids = torch.tensor(encoded).unsqueeze(0).to(device)"
   ]
  },
  {
   "cell_type": "code",
   "execution_count": 13,
   "metadata": {},
   "outputs": [
    {
     "data": {
      "text/plain": [
       "array([4.1368643e-05, 2.8269228e-06, 5.0701726e-07, ..., 4.2566777e-09,\n",
       "       9.8345931e-10, 3.1883785e-05], dtype=float32)"
      ]
     },
     "execution_count": 13,
     "metadata": {},
     "output_type": "execute_result"
    }
   ],
   "source": [
    "# model = model.to(device)\n",
    "with torch.no_grad():\n",
    "    outputs = model(cur_ids, labels=cur_ids)\n",
    "    loss, logits = outputs[:2]\n",
    "    softmax_logits = torch.softmax(logits[0,-1], dim=0) \n",
    "    output = softmax_logits.to('cpu').numpy()\n",
    "output"
   ]
  },
  {
   "cell_type": "code",
   "execution_count": 14,
   "metadata": {},
   "outputs": [
    {
     "data": {
      "text/plain": [
       "1024"
      ]
     },
     "execution_count": 14,
     "metadata": {},
     "output_type": "execute_result"
    }
   ],
   "source": [
    "len(encoded)"
   ]
  },
  {
   "cell_type": "code",
   "execution_count": 18,
   "metadata": {},
   "outputs": [
    {
     "data": {
      "text/plain": [
       "51463168"
      ]
     },
     "execution_count": 18,
     "metadata": {},
     "output_type": "execute_result"
    }
   ],
   "source": [
    "50257 * 1024"
   ]
  },
  {
   "cell_type": "code",
   "execution_count": 20,
   "metadata": {},
   "outputs": [
    {
     "data": {
      "text/plain": [
       "[]"
      ]
     },
     "execution_count": 20,
     "metadata": {},
     "output_type": "execute_result"
    }
   ],
   "source": [
    "tokenizer.encode(\"    \")"
   ]
  },
  {
   "cell_type": "code",
   "execution_count": 21,
   "metadata": {},
   "outputs": [
    {
     "data": {
      "text/plain": [
       "{'bos_token': '<|endoftext|>',\n",
       " 'eos_token': '<|endoftext|>',\n",
       " 'unk_token': '<|endoftext|>'}"
      ]
     },
     "execution_count": 21,
     "metadata": {},
     "output_type": "execute_result"
    }
   ],
   "source": [
    "tokenizer.special_tokens_map"
   ]
  },
  {
   "cell_type": "code",
   "execution_count": null,
   "metadata": {},
   "outputs": [],
   "source": []
  }
 ],
 "metadata": {
  "kernelspec": {
   "display_name": "Python 3",
   "language": "python",
   "name": "python3"
  },
  "language_info": {
   "codemirror_mode": {
    "name": "ipython",
    "version": 3
   },
   "file_extension": ".py",
   "mimetype": "text/x-python",
   "name": "python",
   "nbconvert_exporter": "python",
   "pygments_lexer": "ipython3",
   "version": "3.8.5"
  }
 },
 "nbformat": 4,
 "nbformat_minor": 2
}
